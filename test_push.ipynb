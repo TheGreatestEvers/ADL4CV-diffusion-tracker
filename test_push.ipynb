{
 "cells": [
  {
   "cell_type": "code",
   "execution_count": null,
   "metadata": {},
   "outputs": [],
   "source": [
    "from algorithms.feature_extraction_loading import extract_diffusion_features\n",
    "\n",
    "extract_diffusion_features({\"davis\": \"tapvid_davis/tapvid_davis.pkl\"}, enable_vae_slicing=False)"
   ]
  },
  {
   "cell_type": "code",
   "execution_count": 1,
   "metadata": {},
   "outputs": [
    {
     "name": "stderr",
     "output_type": "stream",
     "text": [
      "2024-07-14 12:20:32.310941: E external/local_xla/xla/stream_executor/cuda/cuda_fft.cc:479] Unable to register cuFFT factory: Attempting to register factory for plugin cuFFT when one has already been registered\n",
      "2024-07-14 12:20:32.331153: E external/local_xla/xla/stream_executor/cuda/cuda_dnn.cc:10575] Unable to register cuDNN factory: Attempting to register factory for plugin cuDNN when one has already been registered\n",
      "2024-07-14 12:20:32.331178: E external/local_xla/xla/stream_executor/cuda/cuda_blas.cc:1442] Unable to register cuBLAS factory: Attempting to register factory for plugin cuBLAS when one has already been registered\n",
      "2024-07-14 12:20:32.347941: I tensorflow/core/platform/cpu_feature_guard.cc:210] This TensorFlow binary is optimized to use available CPU instructions in performance-critical operations.\n",
      "To enable the following instructions: AVX2 FMA, in other operations, rebuild TensorFlow with the appropriate compiler flags.\n",
      "2024-07-14 12:20:33.170248: W tensorflow/compiler/tf2tensorrt/utils/py_utils.cc:38] TF-TRT Warning: Could not find TensorRT\n"
     ]
    }
   ],
   "source": [
    "import pickle\n",
    "from algorithms.utils import read_config_file, feature_collate_fn\n",
    "from algorithms.feature_extraction_loading import FeatureDataset\n",
    "from torch.utils.data import DataLoader\n",
    "\n",
    "config = read_config_file(\"configs/config.yaml\")\n",
    "\n",
    "dataset = FeatureDataset(feature_dataset_path=config['dataset_dir'])\n",
    "dataloader = DataLoader(dataset, collate_fn=feature_collate_fn)"
   ]
  },
  {
   "cell_type": "code",
   "execution_count": 2,
   "metadata": {},
   "outputs": [],
   "source": [
    "# Create feature tensor for swan\n",
    "import torch\n",
    "import torch.nn.functional as func\n",
    "\n",
    "\n",
    "def combine_features(feature_dict):\n",
    "    f = feature_dict\n",
    "\n",
    "    feature = f[\"mid_block\"][0].float() + f[\"down_block\"][2].float() + f[\"down_block\"][3].float() #1280x4x4\n",
    "\n",
    "    feature = func.interpolate(feature, scale_factor=2) +  f[\"up_block\"][0].float() #1280x8x8\n",
    "\n",
    "    feature = func.interpolate(feature, scale_factor=2) +  f[\"up_block\"][1].float() #1280x16x16\n",
    "\n",
    "\n",
    "    F,C,H,W = feature.shape\n",
    "    feature = feature.permute((0, 2, 3, 1)).contiguous().view(F*H,W,C)\n",
    "    feature = func.interpolate(feature, size=640)\n",
    "    feature = feature.view(F,H,W,-1).permute(0,3,1,2) #640x16x16\n",
    "\n",
    "    feature = feature +  func.interpolate(f[\"down_block\"][1].float(), scale_factor=2) #640x16x16\n",
    "\n",
    "    F,C,H,W = feature.shape\n",
    "    feature = feature.permute((0, 2, 3, 1)).contiguous().view(F*H,W,C)\n",
    "    feature = func.interpolate(feature, size=320)\n",
    "    feature = feature.view(F,H,W,320).permute(0,3,1,2) #320x16x16\n",
    "\n",
    "    feature = feature + f[\"down_block\"][0].float()\n",
    "\n",
    "    a1 = f[\"encoder_block\"][2].float() + f[\"encoder_block\"][3].float()\n",
    "    F,C,H,W = a1.shape\n",
    "    a1 = a1.permute((0, 2, 3, 1)).contiguous().view(F*H,W,C)\n",
    "    a1 = func.interpolate(a1, size=320)\n",
    "    a1 = a1.view(F,H,W,320).permute(0,3,1,2) #320x32x32\n",
    "\n",
    "    a2 = f[\"up_block\"][2].float()\n",
    "    F,C,H,W = a2.shape\n",
    "    a2 = a2.permute((0, 2, 3, 1)).contiguous().view(F*H,W,C)\n",
    "    a2 = func.interpolate(a2, size=320)\n",
    "    a2 = a2.view(F,H,W,320).permute(0,3,1,2) #320x32x32\n",
    "\n",
    "    feature = func.interpolate(feature, scale_factor=2) + a1 + a2 #320x32x32\n",
    "\n",
    "    F,C,H,W = feature.shape\n",
    "    feature = feature.permute((0, 2, 3, 1)).contiguous().view(F*H,W,C)\n",
    "    feature = func.interpolate(feature, size=256)\n",
    "    feature = feature.view(F,H,W,256).permute(0,3,1,2) #256x32x32\n",
    "\n",
    "    a1 = f[\"decoder_block\"][0].float()\n",
    "    F,C,H,W = a1.shape\n",
    "    a1 = a1.permute((0, 2, 3, 1)).contiguous().view(F*H,W,C)\n",
    "    a1 = func.interpolate(a1, size=256)\n",
    "    a1 = a1.view(F,H,W,256).permute(0,3,1,2) #256x64x64\n",
    "\n",
    "    feature = func.interpolate(feature, scale_factor=2) + a1 + f[\"encoder_block\"][1].float() #256x64x64\n",
    "\n",
    "    F,C,H,W = feature.shape\n",
    "    feature = feature.permute((0, 2, 3, 1)).contiguous().view(F*H,W,C)\n",
    "    feature = func.interpolate(feature, size=128)\n",
    "    feature = feature.view(F,H,W,128).permute(0,3,1,2) #128x64x64\n",
    "\n",
    "    a1 = f[\"decoder_block\"][1].float()\n",
    "    F,C,H,W = a1.shape\n",
    "    a1 = a1.permute((0, 2, 3, 1)).contiguous().view(F*H,W,C)\n",
    "    a1 = func.interpolate(a1, size=128)\n",
    "    a1 = a1.view(F,H,W,128).permute(0,3,1,2) #128x128x128\n",
    "\n",
    "    feature = func.interpolate(feature, scale_factor=2) + a1 + f[\"encoder_block\"][0].float() #128x128x128\n",
    "\n",
    "    a1 = f[\"decoder_block\"][2].float()\n",
    "    F,C,H,W = a1.shape\n",
    "    a1 = a1.permute((0, 2, 3, 1)).contiguous().view(F*H,W,C)\n",
    "    a1 = func.interpolate(a1, size=128)\n",
    "    a1 = a1.view(F,H,W,128).permute(0,3,1,2) #128x128x128\n",
    "\n",
    "    feature = func.interpolate(feature, scale_factor=2) + a1 + f[\"decoder_block\"][3].float() #128x256x256\n",
    "\n",
    "    return feature"
   ]
  },
  {
   "cell_type": "code",
   "execution_count": 4,
   "metadata": {},
   "outputs": [
    {
     "name": "stdout",
     "output_type": "stream",
     "text": [
      "0\n",
      "1\n",
      "2\n",
      "3\n",
      "4\n"
     ]
    },
    {
     "ename": "KeyboardInterrupt",
     "evalue": "",
     "output_type": "error",
     "traceback": [
      "\u001b[0;31m---------------------------------------------------------------------------\u001b[0m",
      "\u001b[0;31mKeyboardInterrupt\u001b[0m                         Traceback (most recent call last)",
      "Cell \u001b[0;32mIn[4], line 3\u001b[0m\n\u001b[1;32m      1\u001b[0m \u001b[38;5;28;01mimport\u001b[39;00m \u001b[38;5;21;01mos\u001b[39;00m\n\u001b[0;32m----> 3\u001b[0m \u001b[38;5;28;01mfor\u001b[39;00m i, data \u001b[38;5;129;01min\u001b[39;00m \u001b[38;5;28menumerate\u001b[39m(dataloader):\n\u001b[1;32m      4\u001b[0m     \u001b[38;5;28mprint\u001b[39m(i)\n\u001b[1;32m      5\u001b[0m     better_feature \u001b[38;5;241m=\u001b[39m combine_features(data[\u001b[38;5;241m0\u001b[39m][\u001b[38;5;124m\"\u001b[39m\u001b[38;5;124mfeatures\u001b[39m\u001b[38;5;124m\"\u001b[39m])\n",
      "File \u001b[0;32m/home/zeus/miniconda3/envs/cloudspace/lib/python3.10/site-packages/torch/utils/data/dataloader.py:631\u001b[0m, in \u001b[0;36m_BaseDataLoaderIter.__next__\u001b[0;34m(self)\u001b[0m\n\u001b[1;32m    628\u001b[0m \u001b[38;5;28;01mif\u001b[39;00m \u001b[38;5;28mself\u001b[39m\u001b[38;5;241m.\u001b[39m_sampler_iter \u001b[38;5;129;01mis\u001b[39;00m \u001b[38;5;28;01mNone\u001b[39;00m:\n\u001b[1;32m    629\u001b[0m     \u001b[38;5;66;03m# TODO(https://github.com/pytorch/pytorch/issues/76750)\u001b[39;00m\n\u001b[1;32m    630\u001b[0m     \u001b[38;5;28mself\u001b[39m\u001b[38;5;241m.\u001b[39m_reset()  \u001b[38;5;66;03m# type: ignore[call-arg]\u001b[39;00m\n\u001b[0;32m--> 631\u001b[0m data \u001b[38;5;241m=\u001b[39m \u001b[38;5;28;43mself\u001b[39;49m\u001b[38;5;241;43m.\u001b[39;49m\u001b[43m_next_data\u001b[49m\u001b[43m(\u001b[49m\u001b[43m)\u001b[49m\n\u001b[1;32m    632\u001b[0m \u001b[38;5;28mself\u001b[39m\u001b[38;5;241m.\u001b[39m_num_yielded \u001b[38;5;241m+\u001b[39m\u001b[38;5;241m=\u001b[39m \u001b[38;5;241m1\u001b[39m\n\u001b[1;32m    633\u001b[0m \u001b[38;5;28;01mif\u001b[39;00m \u001b[38;5;28mself\u001b[39m\u001b[38;5;241m.\u001b[39m_dataset_kind \u001b[38;5;241m==\u001b[39m _DatasetKind\u001b[38;5;241m.\u001b[39mIterable \u001b[38;5;129;01mand\u001b[39;00m \\\n\u001b[1;32m    634\u001b[0m         \u001b[38;5;28mself\u001b[39m\u001b[38;5;241m.\u001b[39m_IterableDataset_len_called \u001b[38;5;129;01mis\u001b[39;00m \u001b[38;5;129;01mnot\u001b[39;00m \u001b[38;5;28;01mNone\u001b[39;00m \u001b[38;5;129;01mand\u001b[39;00m \\\n\u001b[1;32m    635\u001b[0m         \u001b[38;5;28mself\u001b[39m\u001b[38;5;241m.\u001b[39m_num_yielded \u001b[38;5;241m>\u001b[39m \u001b[38;5;28mself\u001b[39m\u001b[38;5;241m.\u001b[39m_IterableDataset_len_called:\n",
      "File \u001b[0;32m/home/zeus/miniconda3/envs/cloudspace/lib/python3.10/site-packages/torch/utils/data/dataloader.py:675\u001b[0m, in \u001b[0;36m_SingleProcessDataLoaderIter._next_data\u001b[0;34m(self)\u001b[0m\n\u001b[1;32m    673\u001b[0m \u001b[38;5;28;01mdef\u001b[39;00m \u001b[38;5;21m_next_data\u001b[39m(\u001b[38;5;28mself\u001b[39m):\n\u001b[1;32m    674\u001b[0m     index \u001b[38;5;241m=\u001b[39m \u001b[38;5;28mself\u001b[39m\u001b[38;5;241m.\u001b[39m_next_index()  \u001b[38;5;66;03m# may raise StopIteration\u001b[39;00m\n\u001b[0;32m--> 675\u001b[0m     data \u001b[38;5;241m=\u001b[39m \u001b[38;5;28;43mself\u001b[39;49m\u001b[38;5;241;43m.\u001b[39;49m\u001b[43m_dataset_fetcher\u001b[49m\u001b[38;5;241;43m.\u001b[39;49m\u001b[43mfetch\u001b[49m\u001b[43m(\u001b[49m\u001b[43mindex\u001b[49m\u001b[43m)\u001b[49m  \u001b[38;5;66;03m# may raise StopIteration\u001b[39;00m\n\u001b[1;32m    676\u001b[0m     \u001b[38;5;28;01mif\u001b[39;00m \u001b[38;5;28mself\u001b[39m\u001b[38;5;241m.\u001b[39m_pin_memory:\n\u001b[1;32m    677\u001b[0m         data \u001b[38;5;241m=\u001b[39m _utils\u001b[38;5;241m.\u001b[39mpin_memory\u001b[38;5;241m.\u001b[39mpin_memory(data, \u001b[38;5;28mself\u001b[39m\u001b[38;5;241m.\u001b[39m_pin_memory_device)\n",
      "File \u001b[0;32m/home/zeus/miniconda3/envs/cloudspace/lib/python3.10/site-packages/torch/utils/data/_utils/fetch.py:51\u001b[0m, in \u001b[0;36m_MapDatasetFetcher.fetch\u001b[0;34m(self, possibly_batched_index)\u001b[0m\n\u001b[1;32m     49\u001b[0m         data \u001b[38;5;241m=\u001b[39m \u001b[38;5;28mself\u001b[39m\u001b[38;5;241m.\u001b[39mdataset\u001b[38;5;241m.\u001b[39m__getitems__(possibly_batched_index)\n\u001b[1;32m     50\u001b[0m     \u001b[38;5;28;01melse\u001b[39;00m:\n\u001b[0;32m---> 51\u001b[0m         data \u001b[38;5;241m=\u001b[39m [\u001b[38;5;28mself\u001b[39m\u001b[38;5;241m.\u001b[39mdataset[idx] \u001b[38;5;28;01mfor\u001b[39;00m idx \u001b[38;5;129;01min\u001b[39;00m possibly_batched_index]\n\u001b[1;32m     52\u001b[0m \u001b[38;5;28;01melse\u001b[39;00m:\n\u001b[1;32m     53\u001b[0m     data \u001b[38;5;241m=\u001b[39m \u001b[38;5;28mself\u001b[39m\u001b[38;5;241m.\u001b[39mdataset[possibly_batched_index]\n",
      "File \u001b[0;32m/home/zeus/miniconda3/envs/cloudspace/lib/python3.10/site-packages/torch/utils/data/_utils/fetch.py:51\u001b[0m, in \u001b[0;36m<listcomp>\u001b[0;34m(.0)\u001b[0m\n\u001b[1;32m     49\u001b[0m         data \u001b[38;5;241m=\u001b[39m \u001b[38;5;28mself\u001b[39m\u001b[38;5;241m.\u001b[39mdataset\u001b[38;5;241m.\u001b[39m__getitems__(possibly_batched_index)\n\u001b[1;32m     50\u001b[0m     \u001b[38;5;28;01melse\u001b[39;00m:\n\u001b[0;32m---> 51\u001b[0m         data \u001b[38;5;241m=\u001b[39m [\u001b[38;5;28;43mself\u001b[39;49m\u001b[38;5;241;43m.\u001b[39;49m\u001b[43mdataset\u001b[49m\u001b[43m[\u001b[49m\u001b[43midx\u001b[49m\u001b[43m]\u001b[49m \u001b[38;5;28;01mfor\u001b[39;00m idx \u001b[38;5;129;01min\u001b[39;00m possibly_batched_index]\n\u001b[1;32m     52\u001b[0m \u001b[38;5;28;01melse\u001b[39;00m:\n\u001b[1;32m     53\u001b[0m     data \u001b[38;5;241m=\u001b[39m \u001b[38;5;28mself\u001b[39m\u001b[38;5;241m.\u001b[39mdataset[possibly_batched_index]\n",
      "File \u001b[0;32m~/ADL4CV/algorithms/feature_extraction_loading.py:46\u001b[0m, in \u001b[0;36mFeatureDataset.__getitem__\u001b[0;34m(self, idx)\u001b[0m\n\u001b[1;32m     43\u001b[0m dataset \u001b[38;5;241m=\u001b[39m {}\n\u001b[1;32m     45\u001b[0m \u001b[38;5;28;01mwith\u001b[39;00m \u001b[38;5;28mopen\u001b[39m(os\u001b[38;5;241m.\u001b[39mpath\u001b[38;5;241m.\u001b[39mjoin(\u001b[38;5;28mself\u001b[39m\u001b[38;5;241m.\u001b[39mfeature_dataset_path, \u001b[38;5;124m'\u001b[39m\u001b[38;5;124mvideo_\u001b[39m\u001b[38;5;124m'\u001b[39m \u001b[38;5;241m+\u001b[39m \u001b[38;5;28mstr\u001b[39m(idx) \u001b[38;5;241m+\u001b[39m \u001b[38;5;124m'\u001b[39m\u001b[38;5;124m.pkl\u001b[39m\u001b[38;5;124m'\u001b[39m), \u001b[38;5;124m'\u001b[39m\u001b[38;5;124mrb\u001b[39m\u001b[38;5;124m'\u001b[39m) \u001b[38;5;28;01mas\u001b[39;00m dataset_file:\n\u001b[0;32m---> 46\u001b[0m     dataset \u001b[38;5;241m=\u001b[39m \u001b[43mpickle\u001b[49m\u001b[38;5;241;43m.\u001b[39;49m\u001b[43mload\u001b[49m\u001b[43m(\u001b[49m\u001b[43mdataset_file\u001b[49m\u001b[43m)\u001b[49m\n\u001b[1;32m     48\u001b[0m \u001b[38;5;28;01mreturn\u001b[39;00m dataset\n",
      "File \u001b[0;32m/home/zeus/miniconda3/envs/cloudspace/lib/python3.10/site-packages/torch/storage.py:370\u001b[0m, in \u001b[0;36m_load_from_bytes\u001b[0;34m(b)\u001b[0m\n\u001b[1;32m    366\u001b[0m     \u001b[38;5;129m@_share_memory_lock_protected\u001b[39m\n\u001b[1;32m    367\u001b[0m     \u001b[38;5;28;01mdef\u001b[39;00m \u001b[38;5;21m_share_filename_cpu_\u001b[39m(\u001b[38;5;28mself\u001b[39m, \u001b[38;5;241m*\u001b[39margs, \u001b[38;5;241m*\u001b[39m\u001b[38;5;241m*\u001b[39mkwargs):\n\u001b[1;32m    368\u001b[0m         \u001b[38;5;28;01mreturn\u001b[39;00m \u001b[38;5;28msuper\u001b[39m()\u001b[38;5;241m.\u001b[39m_share_filename_cpu_(\u001b[38;5;241m*\u001b[39margs, \u001b[38;5;241m*\u001b[39m\u001b[38;5;241m*\u001b[39mkwargs)\n\u001b[0;32m--> 370\u001b[0m \u001b[38;5;28;01mdef\u001b[39;00m \u001b[38;5;21m_load_from_bytes\u001b[39m(b):\n\u001b[1;32m    371\u001b[0m     \u001b[38;5;28;01mreturn\u001b[39;00m torch\u001b[38;5;241m.\u001b[39mload(io\u001b[38;5;241m.\u001b[39mBytesIO(b))\n\u001b[1;32m    374\u001b[0m _StorageBase\u001b[38;5;241m.\u001b[39mtype \u001b[38;5;241m=\u001b[39m _type  \u001b[38;5;66;03m# type: ignore[assignment]\u001b[39;00m\n",
      "\u001b[0;31mKeyboardInterrupt\u001b[0m: "
     ]
    }
   ],
   "source": [
    "import os\n",
    "\n",
    "for i, data in enumerate(dataloader):\n",
    "    print(i)\n",
    "    better_feature = combine_features(data[0][\"features\"])\n",
    "\n",
    "    data[0]['better_feature'] = better_feature.cpu()\n",
    "    feature_path = os.path.join(config['dataset_dir'], 'video_' + str(i) + '.pkl')\n",
    "\n",
    "    with open(feature_path, 'wb') as better_feature_file:\n",
    "        pickle.dump(data, better_feature_file)\n",
    "    "
   ]
  }
 ],
 "metadata": {
  "kernelspec": {
   "display_name": "adl4cv",
   "language": "python",
   "name": "python3"
  },
  "language_info": {
   "codemirror_mode": {
    "name": "ipython",
    "version": 3
   },
   "file_extension": ".py",
   "mimetype": "text/x-python",
   "name": "python",
   "nbconvert_exporter": "python",
   "pygments_lexer": "ipython3",
   "version": "3.11.9"
  }
 },
 "nbformat": 4,
 "nbformat_minor": 2
}

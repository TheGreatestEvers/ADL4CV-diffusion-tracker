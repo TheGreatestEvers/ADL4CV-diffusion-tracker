{
 "cells": [
  {
   "cell_type": "code",
   "execution_count": null,
   "metadata": {},
   "outputs": [],
   "source": [
    "import torch\n",
    "import numpy as np\n",
    "from PIL import Image, ImageSequence\n",
    "\n",
    "from diffusion_wrapper import DiffusionWrapper\n",
    "from heatmap_generator import HeatmapGenerator\n",
    "from zero_shot_tracker import ZeroShotTracker\n",
    "\n",
    "\n",
    "diffusion_wrapper = DiffusionWrapper('../text-to-video-ms-1.7b')\n",
    "heatmap_generator = HeatmapGenerator()\n",
    "zero_shot_tracker = ZeroShotTracker()\n",
    "\n",
    "video_features_dict = diffusion_wrapper.extract_video_features('../rocket256.gif', \"A rocket starting on Mars.\")"
   ]
  },
  {
   "cell_type": "code",
   "execution_count": null,
   "metadata": {},
   "outputs": [],
   "source": [
    "video_features = diffusion_wrapper.concatenate_video_features({'up_block': [video_features_dict['up_block'][2]]})\n",
    "video_features = video_features.permute(0, 2, 3, 1).float().cpu()"
   ]
  },
  {
   "cell_type": "code",
   "execution_count": null,
   "metadata": {},
   "outputs": [],
   "source": [
    "heatmaps = heatmap_generator.generate(video_features, (93, 137, 0))\n",
    "heatmap_generator.safe_heatmap_as_gif(heatmaps)\n",
    "\n",
    "#heatmaps = torch.permute(heatmaps, (0, 3, 1, 2))\n",
    "#heatmaps = torch.nn.functional.interpolate(heatmaps, size=256, mode=\"bilinear\", align_corners=True) * 255\n",
    "#\n",
    "#heatmaps = heatmaps.squeeze().numpy()\n",
    "#frames_gif = [Image.fromarray(f) for f in heatmaps]\n",
    "#frames_gif[0].save(\"output/heatmaps.gif\", save_all=True, append_images=frames_gif[1:], duration=100, loop=0)\n",
    "\n",
    "tracks = zero_shot_tracker.track(heatmaps)\n",
    "\n",
    "def load_frames(image: Image, mode='RGB'):\n",
    "    return np.array([\n",
    "        np.array(frame.convert(mode))\n",
    "        for frame in ImageSequence.Iterator(image)\n",
    "    ])\n",
    "\n",
    "with Image.open('../rocket256.gif') as im:\n",
    "    frames = load_frames(im)\n",
    "\n",
    "zero_shot_tracker.place_marker_in_frames(frames, tracks)"
   ]
  },
  {
   "cell_type": "code",
   "execution_count": null,
   "metadata": {},
   "outputs": [],
   "source": []
  }
 ],
 "metadata": {
  "kernelspec": {
   "display_name": "diffusers",
   "language": "python",
   "name": "python3"
  },
  "language_info": {
   "codemirror_mode": {
    "name": "ipython",
    "version": 3
   },
   "file_extension": ".py",
   "mimetype": "text/x-python",
   "name": "python",
   "nbconvert_exporter": "python",
   "pygments_lexer": "ipython3",
   "version": "3.11.9"
  }
 },
 "nbformat": 4,
 "nbformat_minor": 2
}

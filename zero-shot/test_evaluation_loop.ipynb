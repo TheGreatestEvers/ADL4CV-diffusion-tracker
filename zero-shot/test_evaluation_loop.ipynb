{
 "cells": [
  {
   "cell_type": "code",
   "execution_count": null,
   "metadata": {},
   "outputs": [],
   "source": [
    "import os\n",
    "import torch\n",
    "import numpy as np\n",
    "from torch.utils.data import DataLoader\n",
    "import random\n",
    "\n",
    "from algorithms.feature_extraction_loading import FeatureDataset, extract_diffusion_features, feature_collate_fn, concatenate_video_features\n",
    "from evaluation.visualization import safe_heatmap_as_gif, place_marker_in_frames\n",
    "\n",
    "from algorithms.heatmap_generator import HeatmapGenerator\n",
    "from algorithms.zero_shot_tracker import ZeroShotTracker\n",
    "\n",
    "heatmap_generator = HeatmapGenerator()\n",
    "zero_shot_tracker = ZeroShotTracker()"
   ]
  },
  {
   "cell_type": "code",
   "execution_count": null,
   "metadata": {},
   "outputs": [],
   "source": [
    "#extract_diffusion_features(input_dataset_paths={'davis': '../tapvid_davis/tapvid_davis.pkl'}, diffusion_model_path='../text-to-video-ms-1.7b/')"
   ]
  },
  {
   "cell_type": "code",
   "execution_count": null,
   "metadata": {},
   "outputs": [],
   "source": [
    "feature_dataset = FeatureDataset()\n",
    "feature_loader = DataLoader(feature_dataset, batch_size=1, collate_fn=feature_collate_fn)\n",
    "\n",
    "video_idx = 0\n",
    "\n",
    "for batch in feature_loader:\n",
    "    for sample in batch:\n",
    "        video_features = concatenate_video_features({'up_block': sample['features']['up_block'][0:3]})\n",
    "\n",
    "        idx = random.randint(0, len(sample['query_points'][0]))\n",
    "        query_point = sample['query_points'][0][idx]\n",
    "\n",
    "        print(query_point)\n",
    "\n",
    "        folder_path = os.path.join('output', 'video_' + str(video_idx))\n",
    "        os.makedirs(folder_path)\n",
    "        query_point_file_name = os.path.join(folder_path, 'query_point.txt')\n",
    "        with open(query_point_file_name, 'w') as query_point_file:\n",
    "            query_point_file.write(str(query_point))\n",
    "\n",
    "        video_features = video_features.permute(0, 2, 3, 1).float()\n",
    "        heatmaps = heatmap_generator.generate(video_features, (query_point[1], query_point[2], int(query_point[0])))\n",
    "        tracks = zero_shot_tracker.track(heatmaps)\n",
    "\n",
    "        gt_tracks = np.zeros_like(sample['target_points'][0][idx])#np.array(sample['target_points'][0][idx][:,1], sample['target_points'][0][idx][:,0])\n",
    "        gt_tracks[:, 1] = sample['target_points'][0][idx][:, 0]\n",
    "        gt_tracks[:, 0] = sample['target_points'][0][idx][:, 1]\n",
    "\n",
    "        place_marker_in_frames(sample['video'].squeeze(), tracks, ground_truth_tracks=gt_tracks, folder_path=folder_path)\n",
    "        safe_heatmap_as_gif(heatmaps, True, sample['video'].squeeze(), folder_path=folder_path)\n",
    "\n",
    "        video_idx += 1"
   ]
  }
 ],
 "metadata": {
  "kernelspec": {
   "display_name": "diffusers",
   "language": "python",
   "name": "python3"
  },
  "language_info": {
   "codemirror_mode": {
    "name": "ipython",
    "version": 3
   },
   "file_extension": ".py",
   "mimetype": "text/x-python",
   "name": "python",
   "nbconvert_exporter": "python",
   "pygments_lexer": "ipython3",
   "version": "3.11.9"
  }
 },
 "nbformat": 4,
 "nbformat_minor": 2
}

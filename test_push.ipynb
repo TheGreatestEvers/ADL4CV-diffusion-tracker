{
 "cells": [
  {
   "cell_type": "code",
   "execution_count": null,
   "metadata": {},
   "outputs": [],
   "source": [
    "from algorithms.feature_extraction_loading import extract_diffusion_features\n",
    "\n",
    "extract_diffusion_features({\"davis\": \"tapvid_davis/tapvid_davis.pkl\"}, enable_vae_slicing=False)"
   ]
  },
  {
   "cell_type": "code",
   "execution_count": 1,
   "metadata": {},
   "outputs": [
    {
     "name": "stderr",
     "output_type": "stream",
     "text": [
      "2024-07-15 10:48:21.561433: E external/local_xla/xla/stream_executor/cuda/cuda_fft.cc:479] Unable to register cuFFT factory: Attempting to register factory for plugin cuFFT when one has already been registered\n",
      "2024-07-15 10:48:21.577174: E external/local_xla/xla/stream_executor/cuda/cuda_dnn.cc:10575] Unable to register cuDNN factory: Attempting to register factory for plugin cuDNN when one has already been registered\n",
      "2024-07-15 10:48:21.577199: E external/local_xla/xla/stream_executor/cuda/cuda_blas.cc:1442] Unable to register cuBLAS factory: Attempting to register factory for plugin cuBLAS when one has already been registered\n",
      "2024-07-15 10:48:21.587535: I tensorflow/core/platform/cpu_feature_guard.cc:210] This TensorFlow binary is optimized to use available CPU instructions in performance-critical operations.\n",
      "To enable the following instructions: AVX2 FMA, in other operations, rebuild TensorFlow with the appropriate compiler flags.\n",
      "2024-07-15 10:48:22.383747: W tensorflow/compiler/tf2tensorrt/utils/py_utils.cc:38] TF-TRT Warning: Could not find TensorRT\n"
     ]
    }
   ],
   "source": [
    "import pickle\n",
    "from algorithms.utils import read_config_file, feature_collate_fn\n",
    "from algorithms.feature_extraction_loading import FeatureDataset\n",
    "from torch.utils.data import DataLoader\n",
    "\n",
    "config = read_config_file(\"configs/config.yaml\")\n",
    "\n",
    "dataset = FeatureDataset(feature_dataset_path=config['dataset_dir'])\n",
    "dataloader = DataLoader(dataset, collate_fn=feature_collate_fn)"
   ]
  },
  {
   "cell_type": "code",
   "execution_count": 2,
   "metadata": {},
   "outputs": [],
   "source": [
    "# Create feature tensor for swan\n",
    "import torch\n",
    "import torch.nn.functional as func\n",
    "\n",
    "\n",
    "def combine_features(feature_dict):\n",
    "    f = feature_dict\n",
    "\n",
    "    feature = f[\"mid_block\"][0].float() + f[\"down_block\"][2].float() + f[\"down_block\"][3].float() #1280x4x4\n",
    "\n",
    "    feature = func.interpolate(feature, scale_factor=2) +  f[\"up_block\"][0].float() #1280x8x8\n",
    "\n",
    "    feature = func.interpolate(feature, scale_factor=2) +  f[\"up_block\"][1].float() #1280x16x16\n",
    "\n",
    "\n",
    "    F,C,H,W = feature.shape\n",
    "    feature = feature.permute((0, 2, 3, 1)).contiguous().view(F*H,W,C)\n",
    "    feature = func.interpolate(feature, size=640)\n",
    "    feature = feature.view(F,H,W,-1).permute(0,3,1,2) #640x16x16\n",
    "\n",
    "    feature = feature +  func.interpolate(f[\"down_block\"][1].float(), scale_factor=2) #640x16x16\n",
    "\n",
    "    F,C,H,W = feature.shape\n",
    "    feature = feature.permute((0, 2, 3, 1)).contiguous().view(F*H,W,C)\n",
    "    feature = func.interpolate(feature, size=320)\n",
    "    feature = feature.view(F,H,W,320).permute(0,3,1,2) #320x16x16\n",
    "\n",
    "    feature = feature + f[\"down_block\"][0].float()\n",
    "\n",
    "    a1 = f[\"encoder_block\"][2].float() + f[\"encoder_block\"][3].float()\n",
    "    F,C,H,W = a1.shape\n",
    "    a1 = a1.permute((0, 2, 3, 1)).contiguous().view(F*H,W,C)\n",
    "    a1 = func.interpolate(a1, size=320)\n",
    "    a1 = a1.view(F,H,W,320).permute(0,3,1,2) #320x32x32\n",
    "\n",
    "    a2 = f[\"up_block\"][2].float()\n",
    "    F,C,H,W = a2.shape\n",
    "    a2 = a2.permute((0, 2, 3, 1)).contiguous().view(F*H,W,C)\n",
    "    a2 = func.interpolate(a2, size=320)\n",
    "    a2 = a2.view(F,H,W,320).permute(0,3,1,2) #320x32x32\n",
    "\n",
    "    feature = func.interpolate(feature, scale_factor=2) + a1 + a2 #320x32x32\n",
    "\n",
    "    F,C,H,W = feature.shape\n",
    "    feature = feature.permute((0, 2, 3, 1)).contiguous().view(F*H,W,C)\n",
    "    feature = func.interpolate(feature, size=256)\n",
    "    feature = feature.view(F,H,W,256).permute(0,3,1,2) #256x32x32\n",
    "\n",
    "    a1 = f[\"decoder_block\"][0].float()\n",
    "    F,C,H,W = a1.shape\n",
    "    a1 = a1.permute((0, 2, 3, 1)).contiguous().view(F*H,W,C)\n",
    "    a1 = func.interpolate(a1, size=256)\n",
    "    a1 = a1.view(F,H,W,256).permute(0,3,1,2) #256x64x64\n",
    "\n",
    "    feature = func.interpolate(feature, scale_factor=2) + a1 + f[\"encoder_block\"][1].float() #256x64x64\n",
    "\n",
    "    F,C,H,W = feature.shape\n",
    "    feature = feature.permute((0, 2, 3, 1)).contiguous().view(F*H,W,C)\n",
    "    feature = func.interpolate(feature, size=128)\n",
    "    feature = feature.view(F,H,W,128).permute(0,3,1,2) #128x64x64\n",
    "\n",
    "    a1 = f[\"decoder_block\"][1].float()\n",
    "    F,C,H,W = a1.shape\n",
    "    a1 = a1.permute((0, 2, 3, 1)).contiguous().view(F*H,W,C)\n",
    "    a1 = func.interpolate(a1, size=128)\n",
    "    a1 = a1.view(F,H,W,128).permute(0,3,1,2) #128x128x128\n",
    "\n",
    "    feature = func.interpolate(feature, scale_factor=2) + a1 + f[\"encoder_block\"][0].float() #128x128x128\n",
    "\n",
    "    a1 = f[\"decoder_block\"][2].float()\n",
    "    F,C,H,W = a1.shape\n",
    "    a1 = a1.permute((0, 2, 3, 1)).contiguous().view(F*H,W,C)\n",
    "    a1 = func.interpolate(a1, size=128)\n",
    "    a1 = a1.view(F,H,W,128).permute(0,3,1,2) #128x128x128\n",
    "\n",
    "    feature = func.interpolate(feature, scale_factor=2) + a1 + f[\"decoder_block\"][3].float() #128x256x256\n",
    "\n",
    "    F,C,H,W = feature.shape\n",
    "    feature = feature.permute((0, 2, 3, 1)).contiguous().view(F*H,W,C)\n",
    "    feature = func.interpolate(feature, size=64)\n",
    "    feature = feature.view(F,H,W,64).permute(0,3,1,2) #64x256x256\n",
    "\n",
    "    return feature"
   ]
  },
  {
   "cell_type": "code",
   "execution_count": 5,
   "metadata": {},
   "outputs": [
    {
     "name": "stdout",
     "output_type": "stream",
     "text": [
      "0\n",
      "1\n",
      "2\n",
      "3\n",
      "4\n",
      "5\n"
     ]
    },
    {
     "ename": "KeyError",
     "evalue": "0",
     "output_type": "error",
     "traceback": [
      "\u001b[0;31m---------------------------------------------------------------------------\u001b[0m",
      "\u001b[0;31mKeyError\u001b[0m                                  Traceback (most recent call last)",
      "Cell \u001b[0;32mIn[5], line 6\u001b[0m\n\u001b[1;32m      3\u001b[0m \u001b[38;5;28;01mfor\u001b[39;00m i, data \u001b[38;5;129;01min\u001b[39;00m \u001b[38;5;28menumerate\u001b[39m(dataloader):\n\u001b[1;32m      4\u001b[0m     \u001b[38;5;28mprint\u001b[39m(i)\n\u001b[0;32m----> 6\u001b[0m     data \u001b[38;5;241m=\u001b[39m \u001b[43mdata\u001b[49m\u001b[43m[\u001b[49m\u001b[38;5;241;43m0\u001b[39;49m\u001b[43m]\u001b[49m\u001b[43m[\u001b[49m\u001b[38;5;241;43m0\u001b[39;49m\u001b[43m]\u001b[49m\n\u001b[1;32m      7\u001b[0m     better_feature \u001b[38;5;241m=\u001b[39m combine_features(data[\u001b[38;5;124m\"\u001b[39m\u001b[38;5;124mfeatures\u001b[39m\u001b[38;5;124m\"\u001b[39m])\n\u001b[1;32m      9\u001b[0m     data[\u001b[38;5;124m'\u001b[39m\u001b[38;5;124mbetter_feature\u001b[39m\u001b[38;5;124m'\u001b[39m] \u001b[38;5;241m=\u001b[39m better_feature\u001b[38;5;241m.\u001b[39mcpu()\n",
      "\u001b[0;31mKeyError\u001b[0m: 0"
     ]
    }
   ],
   "source": [
    "import os\n",
    "\n",
    "for i, data in enumerate(dataloader):\n",
    "    print(i)\n",
    "\n",
    "    data = data[0]\n",
    "    better_feature = combine_features(data[\"features\"])\n",
    "\n",
    "    data['better_feature'] = better_feature.cpu()\n",
    "    feature_path = os.path.join(config['dataset_dir'], 'video_' + str(i) + '.pkl')\n",
    "\n",
    "    with open(feature_path, 'wb') as better_feature_file:\n",
    "        pickle.dump(data, better_feature_file)\n",
    "    "
   ]
  }
 ],
 "metadata": {
  "kernelspec": {
   "display_name": "adl4cv",
   "language": "python",
   "name": "python3"
  },
  "language_info": {
   "codemirror_mode": {
    "name": "ipython",
    "version": 3
   },
   "file_extension": ".py",
   "mimetype": "text/x-python",
   "name": "python",
   "nbconvert_exporter": "python",
   "pygments_lexer": "ipython3",
   "version": "3.11.9"
  }
 },
 "nbformat": 4,
 "nbformat_minor": 2
}

{
 "cells": [
  {
   "cell_type": "code",
   "execution_count": 1,
   "metadata": {},
   "outputs": [
    {
     "name": "stderr",
     "output_type": "stream",
     "text": [
      "/home/max/miniconda3/envs/diffusers/lib/python3.11/site-packages/tqdm/auto.py:21: TqdmWarning: IProgress not found. Please update jupyter and ipywidgets. See https://ipywidgets.readthedocs.io/en/stable/user_install.html\n",
      "  from .autonotebook import tqdm as notebook_tqdm\n",
      "Loading pipeline components...:  40%|████      | 2/5 [00:00<00:00,  5.80it/s]2024-05-19 15:36:20.946762: I tensorflow/core/util/port.cc:113] oneDNN custom operations are on. You may see slightly different numerical results due to floating-point round-off errors from different computation orders. To turn them off, set the environment variable `TF_ENABLE_ONEDNN_OPTS=0`.\n",
      "2024-05-19 15:36:20.979600: I tensorflow/core/platform/cpu_feature_guard.cc:210] This TensorFlow binary is optimized to use available CPU instructions in performance-critical operations.\n",
      "To enable the following instructions: AVX2 AVX512F AVX512_VNNI FMA, in other operations, rebuild TensorFlow with the appropriate compiler flags.\n",
      "2024-05-19 15:36:21.627239: W tensorflow/compiler/tf2tensorrt/utils/py_utils.cc:38] TF-TRT Warning: Could not find TensorRT\n",
      "Loading pipeline components...: 100%|██████████| 5/5 [00:02<00:00,  2.41it/s]\n",
      "/home/max/miniconda3/envs/diffusers/lib/python3.11/site-packages/torch/nn/modules/conv.py:456: UserWarning: Plan failed with a cudnnException: CUDNN_BACKEND_EXECUTION_PLAN_DESCRIPTOR: cudnnFinalize Descriptor Failed cudnn_status: CUDNN_STATUS_NOT_SUPPORTED (Triggered internally at ../aten/src/ATen/native/cudnn/Conv_v8.cpp:919.)\n",
      "  return F.conv2d(input, weight, bias, self.stride,\n",
      "/home/max/miniconda3/envs/diffusers/lib/python3.11/site-packages/torch/nn/modules/conv.py:605: UserWarning: Plan failed with a cudnnException: CUDNN_BACKEND_EXECUTION_PLAN_DESCRIPTOR: cudnnFinalize Descriptor Failed cudnn_status: CUDNN_STATUS_NOT_SUPPORTED (Triggered internally at ../aten/src/ATen/native/cudnn/Conv_v8.cpp:919.)\n",
      "  return F.conv3d(\n"
     ]
    }
   ],
   "source": [
    "import torch\n",
    "import numpy as np\n",
    "from PIL import Image, ImageSequence\n",
    "\n",
    "from diffusion_wrapper import DiffusionWrapper\n",
    "from heatmap_generator import HeatmapGenerator\n",
    "from zero_shot_tracker import ZeroShotTracker\n",
    "\n",
    "\n",
    "diffusion_wrapper = DiffusionWrapper('../text-to-video-ms-1.7b')\n",
    "heatmap_generator = HeatmapGenerator()\n",
    "zero_shot_tracker = ZeroShotTracker()\n",
    "\n",
    "video_features_dict = diffusion_wrapper.extract_video_features('../rocket256.gif', \"A rocket starting on Mars.\")"
   ]
  },
  {
   "cell_type": "code",
   "execution_count": 4,
   "metadata": {},
   "outputs": [],
   "source": [
    "video_features = diffusion_wrapper.concatenate_video_features({'up_block': [video_features_dict['up_block'][2]]})\n",
    "video_features = video_features.permute(0, 2, 3, 1).float().cpu()"
   ]
  },
  {
   "cell_type": "code",
   "execution_count": 5,
   "metadata": {},
   "outputs": [],
   "source": [
    "heatmaps = heatmap_generator.generate(video_features, (93, 137, 0))\n",
    "heatmap_generator.safe_heatmap_as_gif(heatmaps)\n",
    "\n",
    "#heatmaps = torch.permute(heatmaps, (0, 3, 1, 2))\n",
    "#heatmaps = torch.nn.functional.interpolate(heatmaps, size=256, mode=\"bilinear\", align_corners=True) * 255\n",
    "#\n",
    "#heatmaps = heatmaps.squeeze().numpy()\n",
    "#frames_gif = [Image.fromarray(f) for f in heatmaps]\n",
    "#frames_gif[0].save(\"output/heatmaps.gif\", save_all=True, append_images=frames_gif[1:], duration=100, loop=0)\n",
    "\n",
    "tracks = zero_shot_tracker.track(heatmaps)\n",
    "\n",
    "def load_frames(image: Image, mode='RGB'):\n",
    "    return np.array([\n",
    "        np.array(frame.convert(mode))\n",
    "        for frame in ImageSequence.Iterator(image)\n",
    "    ])\n",
    "\n",
    "with Image.open('../rocket256.gif') as im:\n",
    "    frames = load_frames(im)\n",
    "\n",
    "zero_shot_tracker.place_marker_in_frames(frames, tracks)"
   ]
  },
  {
   "cell_type": "code",
   "execution_count": null,
   "metadata": {},
   "outputs": [],
   "source": []
  }
 ],
 "metadata": {
  "kernelspec": {
   "display_name": "diffusers",
   "language": "python",
   "name": "python3"
  },
  "language_info": {
   "codemirror_mode": {
    "name": "ipython",
    "version": 3
   },
   "file_extension": ".py",
   "mimetype": "text/x-python",
   "name": "python",
   "nbconvert_exporter": "python",
   "pygments_lexer": "ipython3",
   "version": "3.11.9"
  }
 },
 "nbformat": 4,
 "nbformat_minor": 2
}

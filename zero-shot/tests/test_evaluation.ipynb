{
 "cells": [
  {
   "cell_type": "code",
   "execution_count": null,
   "metadata": {},
   "outputs": [],
   "source": [
    "import torch\n",
    "import numpy as np\n",
    "from PIL import Image, ImageSequence\n",
    "\n",
    "from diffusion_wrapper import DiffusionWrapper\n",
    "from heatmap_generator import HeatmapGenerator\n",
    "from zero_shot_tracker import ZeroShotTracker\n",
    "\n",
    "\n",
    "diffusion_wrapper = DiffusionWrapper('../text-to-video-ms-1.7b/')\n",
    "heatmap_generator = HeatmapGenerator()\n",
    "zero_shot_tracker = ZeroShotTracker()"
   ]
  },
  {
   "cell_type": "code",
   "execution_count": null,
   "metadata": {},
   "outputs": [],
   "source": [
    "from evaluation_datasets import create_davis_dataset\n",
    "\n",
    "davis_dataset = create_davis_dataset('../tapvid_davis/tapvid_davis.pkl')\n",
    "\n",
    "first_video = {}\n",
    "\n",
    "for data in davis_dataset:\n",
    "    first_video = data['davis']\n",
    "    break\n",
    "\n",
    "video_tensor = torch.tensor(first_video['video'])"
   ]
  },
  {
   "cell_type": "code",
   "execution_count": null,
   "metadata": {},
   "outputs": [],
   "source": [
    "video_features_dict = diffusion_wrapper.extract_video_features(video_tensor, \"\")"
   ]
  },
  {
   "cell_type": "code",
   "execution_count": null,
   "metadata": {},
   "outputs": [],
   "source": [
    "video_features = diffusion_wrapper.concatenate_video_features({'up_block': video_features_dict['up_block'][0:3]})"
   ]
  },
  {
   "cell_type": "code",
   "execution_count": null,
   "metadata": {},
   "outputs": [],
   "source": [
    "video_features = video_features.permute(0, 2, 3, 1).float()\n",
    "heatmaps = heatmap_generator.generate(video_features, (93, 137, 0))\n",
    "tracks = zero_shot_tracker.track(heatmaps)"
   ]
  },
  {
   "cell_type": "code",
   "execution_count": null,
   "metadata": {},
   "outputs": [],
   "source": [
    "zero_shot_tracker.place_marker_in_frames(first_video['video'].squeeze(), tracks)\n",
    "heatmap_generator.safe_heatmap_as_gif(heatmaps)"
   ]
  }
 ],
 "metadata": {
  "kernelspec": {
   "display_name": "diffusers",
   "language": "python",
   "name": "python3"
  },
  "language_info": {
   "codemirror_mode": {
    "name": "ipython",
    "version": 3
   },
   "file_extension": ".py",
   "mimetype": "text/x-python",
   "name": "python",
   "nbconvert_exporter": "python",
   "pygments_lexer": "ipython3",
   "version": "3.11.9"
  }
 },
 "nbformat": 4,
 "nbformat_minor": 2
}

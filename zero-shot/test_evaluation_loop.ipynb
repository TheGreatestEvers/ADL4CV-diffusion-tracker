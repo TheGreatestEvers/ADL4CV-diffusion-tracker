{
 "cells": [
  {
   "cell_type": "code",
   "execution_count": 1,
   "metadata": {},
   "outputs": [],
   "source": [
    "import torch\n",
    "import numpy as np\n",
    "from torch.utils.data import DataLoader\n",
    "\n",
    "from algorithms.feature_extraction_loading import FeatureDataset, extract_diffusion_features, feature_collate_fn"
   ]
  },
  {
   "cell_type": "code",
   "execution_count": 2,
   "metadata": {},
   "outputs": [],
   "source": [
    "#extract_diffusion_features(input_dataset_paths={'davis': '../tapvid_davis/tapvid_davis.pkl'}, diffustion_model_path='../text-to-video-ms-1.7b/')"
   ]
  },
  {
   "cell_type": "code",
   "execution_count": 5,
   "metadata": {},
   "outputs": [
    {
     "name": "stdout",
     "output_type": "stream",
     "text": [
      "dict_keys(['video', 'query_points', 'target_points', 'occluded', 'trackgroup', 'features'])\n",
      "dict_keys(['video', 'query_points', 'target_points', 'occluded', 'trackgroup', 'features'])\n",
      "dict_keys(['video', 'query_points', 'target_points', 'occluded', 'trackgroup', 'features'])\n",
      "dict_keys(['video', 'query_points', 'target_points', 'occluded', 'trackgroup', 'features'])\n",
      "dict_keys(['video', 'query_points', 'target_points', 'occluded', 'trackgroup', 'features'])\n",
      "dict_keys(['video', 'query_points', 'target_points', 'occluded', 'trackgroup', 'features'])\n",
      "dict_keys(['video', 'query_points', 'target_points', 'occluded', 'trackgroup', 'features'])\n",
      "dict_keys(['video', 'query_points', 'target_points', 'occluded', 'trackgroup', 'features'])\n",
      "dict_keys(['video', 'query_points', 'target_points', 'occluded', 'trackgroup', 'features'])\n",
      "dict_keys(['video', 'query_points', 'target_points', 'occluded', 'trackgroup', 'features'])\n",
      "dict_keys(['video', 'query_points', 'target_points', 'occluded', 'trackgroup', 'features'])\n",
      "dict_keys(['video', 'query_points', 'target_points', 'occluded', 'trackgroup', 'features'])\n",
      "dict_keys(['video', 'query_points', 'target_points', 'occluded', 'trackgroup', 'features'])\n",
      "dict_keys(['video', 'query_points', 'target_points', 'occluded', 'trackgroup', 'features'])\n",
      "dict_keys(['video', 'query_points', 'target_points', 'occluded', 'trackgroup', 'features'])\n",
      "15\n"
     ]
    }
   ],
   "source": [
    "feature_dataset = FeatureDataset()\n",
    "feature_loader = DataLoader(feature_dataset, batch_size=2, shuffle=True, collate_fn=feature_collate_fn)\n",
    "\n",
    "cnt = 0\n",
    "\n",
    "for batch in feature_loader:\n",
    "    print(batch[0].keys())\n",
    "\n",
    "    cnt += 1\n",
    "\n",
    "print(cnt)"
   ]
  },
  {
   "cell_type": "code",
   "execution_count": null,
   "metadata": {},
   "outputs": [],
   "source": []
  }
 ],
 "metadata": {
  "kernelspec": {
   "display_name": "diffusers",
   "language": "python",
   "name": "python3"
  },
  "language_info": {
   "codemirror_mode": {
    "name": "ipython",
    "version": 3
   },
   "file_extension": ".py",
   "mimetype": "text/x-python",
   "name": "python",
   "nbconvert_exporter": "python",
   "pygments_lexer": "ipython3",
   "version": "3.11.9"
  }
 },
 "nbformat": 4,
 "nbformat_minor": 2
}

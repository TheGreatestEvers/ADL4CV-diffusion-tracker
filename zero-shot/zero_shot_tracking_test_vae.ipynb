{
 "cells": [
  {
   "cell_type": "code",
   "execution_count": null,
   "metadata": {},
   "outputs": [],
   "source": [
    "import os\n",
    "os.chdir(\"ADL4CV/zero-shot/\")"
   ]
  },
  {
   "cell_type": "code",
   "execution_count": null,
   "metadata": {},
   "outputs": [],
   "source": [
    "import torch\n",
    "import numpy as np\n",
    "from PIL import Image, ImageSequence\n",
    "\n",
    "from diffusion_wrapper import DiffusionWrapper\n",
    "from heatmap_generator import HeatmapGenerator\n",
    "from zero_shot_tracker import ZeroShotTracker\n",
    "\n",
    "print(torch.cuda.is_available())\n",
    "\n",
    "\n",
    "diffusion_wrapper = DiffusionWrapper('../text-to-video-ms-1.7b')\n",
    "heatmap_generator = HeatmapGenerator()\n",
    "zero_shot_tracker = ZeroShotTracker()\n",
    "\n",
    "video_features = diffusion_wrapper.extract_video_features('../rocket256.gif', \"A rocket starting on Mars.\")"
   ]
  },
  {
   "cell_type": "code",
   "execution_count": null,
   "metadata": {},
   "outputs": [],
   "source": [
    "video_features.shape"
   ]
  },
  {
   "cell_type": "code",
   "execution_count": null,
   "metadata": {},
   "outputs": [],
   "source": [
    "from diffusers import AutoencoderKL\n",
    "\n",
    "# Transform feature maps with decoder\n",
    "vae = AutoencoderKL.from_pretrained(\"ali-vilab/text-to-video-ms-1.7b\", subfolder=\"vae\", use_safetensor=True).to(\"cuda\")\n",
    "\n",
    "# Only use last 40 features\n",
    "video_features = video_features[:, -2400:, :, :]\n",
    "print(video_features.shape)\n",
    "F, C, H, W = video_features.shape\n",
    "\n",
    "video_features_4 = video_features.view(F, C // 4, 4, H, W)\n",
    "video_features_decoded = torch.zeros(F, C // 4, 3, 256, 256).to(\"cpu\")\n",
    "for f in range(F):\n",
    "    for c in range(C // 4):\n",
    "        feat_4 = video_features_4[f, c, :, :, :].unsqueeze(0).float()\n",
    "        with torch.no_grad():\n",
    "            feat_4_decoded = vae.decode(feat_4).sample\n",
    "        video_features_decoded[f, c, :, :, :] = feat_4_decoded.to(\"cpu\")\n",
    "video_features_decoded = video_features_decoded.view(F, -1, 256, 256)\n",
    "\n",
    "torch.save(video_features_decoded, \"video_features_decoded_last2400.pt\")"
   ]
  },
  {
   "cell_type": "code",
   "execution_count": null,
   "metadata": {},
   "outputs": [],
   "source": [
    "torch.save(video_features_decoded, \"video_features_decoded_last1600.pt\")\n",
    "video_features_decoded.shape"
   ]
  },
  {
   "cell_type": "code",
   "execution_count": null,
   "metadata": {},
   "outputs": [],
   "source": [
    "import torch\n",
    "import numpy as np\n",
    "from PIL import Image, ImageSequence\n",
    "\n",
    "from diffusion_wrapper import DiffusionWrapper\n",
    "from heatmap_generator import HeatmapGenerator\n",
    "from zero_shot_tracker import ZeroShotTracker\n",
    "\n",
    "heatmap_generator = HeatmapGenerator()\n",
    "zero_shot_tracker = ZeroShotTracker()\n",
    "\n",
    "video_features_decoded = torch.load(\"video_features_decoded_last2400.pt\")\n",
    "\n",
    "video_features_decoded = video_features_decoded.permute(0, 2, 3, 1).float().to(\"cpu\")\n",
    "heatmaps = heatmap_generator.generate(video_features_decoded, (93, 137, 0))\n",
    "\n",
    "#heatmaps = torch.permute(heatmaps, (0, 3, 1, 2))\n",
    "#heatmaps = torch.nn.functional.interpolate(heatmaps, size=256, mode=\"bilinear\", align_corners=True) * 255\n",
    "#\n",
    "#heatmaps = heatmaps.squeeze().numpy()\n",
    "#frames_gif = [Image.fromarray(f) for f in heatmaps]\n",
    "#frames_gif[0].save(\"output/heatmaps.gif\", save_all=True, append_images=frames_gif[1:], duration=100, loop=0)\n",
    "\n",
    "tracks = zero_shot_tracker.track(heatmaps)\n",
    "\n",
    "def load_frames(image: Image, mode='RGB'):\n",
    "    return np.array([\n",
    "        np.array(frame.convert(mode))\n",
    "        for frame in ImageSequence.Iterator(image)\n",
    "    ])\n",
    "\n",
    "with Image.open('../rocket256.gif') as im:\n",
    "    frames = load_frames(im)\n",
    "\n",
    "zero_shot_tracker.place_marker_in_frames(frames, tracks)\n",
    "heatmap_generator.safe_heatmap_as_gif(heatmaps)"
   ]
  }
 ],
 "metadata": {
  "kernelspec": {
   "display_name": "diffusers",
   "language": "python",
   "name": "python3"
  },
  "language_info": {
   "codemirror_mode": {
    "name": "ipython",
    "version": 3
   },
   "file_extension": ".py",
   "mimetype": "text/x-python",
   "name": "python",
   "nbconvert_exporter": "python",
   "pygments_lexer": "ipython3",
   "version": "3.10.13"
  }
 },
 "nbformat": 4,
 "nbformat_minor": 2
}

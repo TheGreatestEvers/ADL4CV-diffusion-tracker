{
 "cells": [
  {
   "cell_type": "code",
   "execution_count": 1,
   "metadata": {},
   "outputs": [
    {
     "name": "stderr",
     "output_type": "stream",
     "text": [
      "2024-07-12 11:47:12.190473: E external/local_xla/xla/stream_executor/cuda/cuda_fft.cc:479] Unable to register cuFFT factory: Attempting to register factory for plugin cuFFT when one has already been registered\n",
      "2024-07-12 11:47:12.206377: E external/local_xla/xla/stream_executor/cuda/cuda_dnn.cc:10575] Unable to register cuDNN factory: Attempting to register factory for plugin cuDNN when one has already been registered\n",
      "2024-07-12 11:47:12.206403: E external/local_xla/xla/stream_executor/cuda/cuda_blas.cc:1442] Unable to register cuBLAS factory: Attempting to register factory for plugin cuBLAS when one has already been registered\n",
      "2024-07-12 11:47:12.217330: I tensorflow/core/platform/cpu_feature_guard.cc:210] This TensorFlow binary is optimized to use available CPU instructions in performance-critical operations.\n",
      "To enable the following instructions: AVX2 FMA, in other operations, rebuild TensorFlow with the appropriate compiler flags.\n",
      "2024-07-12 11:47:13.057532: W tensorflow/compiler/tf2tensorrt/utils/py_utils.cc:38] TF-TRT Warning: Could not find TensorRT\n"
     ]
    },
    {
     "data": {
      "application/vnd.jupyter.widget-view+json": {
       "model_id": "0a2200bde9da4aefb30a667a0f6109e8",
       "version_major": 2,
       "version_minor": 0
      },
      "text/plain": [
       "Loading pipeline components...:   0%|          | 0/5 [00:00<?, ?it/s]"
      ]
     },
     "metadata": {},
     "output_type": "display_data"
    },
    {
     "name": "stdout",
     "output_type": "stream",
     "text": [
      "Dataset: davis\n"
     ]
    },
    {
     "name": "stderr",
     "output_type": "stream",
     "text": [
      "Progress: : 0it [00:00, ?it/s]"
     ]
    },
    {
     "name": "stdout",
     "output_type": "stream",
     "text": [
      "A goat climbs a rocky mountain ridge.\n"
     ]
    },
    {
     "name": "stderr",
     "output_type": "stream",
     "text": [
      "Progress: : 1it [00:30, 30.81s/it]"
     ]
    },
    {
     "name": "stdout",
     "output_type": "stream",
     "text": [
      "A car driving in a roundabout in the city.\n"
     ]
    },
    {
     "name": "stderr",
     "output_type": "stream",
     "text": [
      "Progress: : 2it [00:51, 24.63s/it]"
     ]
    },
    {
     "name": "stdout",
     "output_type": "stream",
     "text": [
      "A dirtbike rider jumps over a ramp.\n"
     ]
    },
    {
     "name": "stderr",
     "output_type": "stream",
     "text": [
      "Progress: : 3it [01:04, 19.30s/it]"
     ]
    },
    {
     "name": "stdout",
     "output_type": "stream",
     "text": [
      "A breakdancer being watched by a crowd.\n"
     ]
    },
    {
     "name": "stderr",
     "output_type": "stream",
     "text": [
      "Progress: : 4it [01:25, 20.24s/it]"
     ]
    },
    {
     "name": "stdout",
     "output_type": "stream",
     "text": [
      "A race driver drifts around a curve.\n"
     ]
    },
    {
     "name": "stderr",
     "output_type": "stream",
     "text": [
      "Progress: : 5it [01:41, 18.59s/it]"
     ]
    },
    {
     "name": "stdout",
     "output_type": "stream",
     "text": [
      "A race driver drifting on a dirty street.\n"
     ]
    },
    {
     "name": "stderr",
     "output_type": "stream",
     "text": [
      "Progress: : 6it [01:55, 17.06s/it]"
     ]
    },
    {
     "name": "stdout",
     "output_type": "stream",
     "text": [
      "Two judo fighters are watched by others during a fight.\n"
     ]
    },
    {
     "name": "stderr",
     "output_type": "stream",
     "text": [
      "Progress: : 7it [02:06, 14.99s/it]"
     ]
    },
    {
     "name": "stdout",
     "output_type": "stream",
     "text": [
      "Two people in a gravity racer driver over a ramp.\n"
     ]
    },
    {
     "name": "stderr",
     "output_type": "stream",
     "text": [
      "Progress: : 8it [02:31, 18.27s/it]"
     ]
    },
    {
     "name": "stdout",
     "output_type": "stream",
     "text": [
      "A woman on a field giving treats to two border collies.\n"
     ]
    },
    {
     "name": "stderr",
     "output_type": "stream",
     "text": [
      "Progress: : 9it [02:50, 18.53s/it]"
     ]
    },
    {
     "name": "stdout",
     "output_type": "stream",
     "text": [
      "A man wearing an orange T-Shirt doing parkour in the city.\n"
     ]
    },
    {
     "name": "stderr",
     "output_type": "stream",
     "text": [
      "Progress: : 10it [03:16, 20.94s/it]"
     ]
    },
    {
     "name": "stdout",
     "output_type": "stream",
     "text": [
      "Indian people on a busy street.\n"
     ]
    },
    {
     "name": "stderr",
     "output_type": "stream",
     "text": [
      "Progress: : 11it [03:39, 21.46s/it]"
     ]
    },
    {
     "name": "stdout",
     "output_type": "stream",
     "text": [
      "Two baby pigs with their mother trying to drink.\n"
     ]
    },
    {
     "name": "stderr",
     "output_type": "stream",
     "text": [
      "Progress: : 12it [04:01, 21.46s/it]"
     ]
    },
    {
     "name": "stdout",
     "output_type": "stream",
     "text": [
      "A cow walking behind a fence.\n"
     ]
    },
    {
     "name": "stderr",
     "output_type": "stream",
     "text": [
      "Progress: : 13it [04:29, 23.47s/it]"
     ]
    },
    {
     "name": "stdout",
     "output_type": "stream",
     "text": [
      "A few blue fish swimming in an aquarium.\n"
     ]
    },
    {
     "name": "stderr",
     "output_type": "stream",
     "text": [
      "Progress: : 14it [04:50, 22.90s/it]"
     ]
    },
    {
     "name": "stdout",
     "output_type": "stream",
     "text": [
      "A paraglider starting off a mountain.\n"
     ]
    },
    {
     "name": "stderr",
     "output_type": "stream",
     "text": [
      "Progress: : 15it [05:12, 22.63s/it]"
     ]
    },
    {
     "name": "stdout",
     "output_type": "stream",
     "text": [
      "A camel walking in its enclosure.\n"
     ]
    },
    {
     "name": "stderr",
     "output_type": "stream",
     "text": [
      "Progress: : 16it [05:37, 23.20s/it]"
     ]
    },
    {
     "name": "stdout",
     "output_type": "stream",
     "text": [
      "A black swan swimming down a river.\n"
     ]
    },
    {
     "name": "stderr",
     "output_type": "stream",
     "text": [
      "Progress: : 17it [05:52, 20.84s/it]"
     ]
    },
    {
     "name": "stdout",
     "output_type": "stream",
     "text": [
      "A golden retriever walking in a garden.\n"
     ]
    },
    {
     "name": "stderr",
     "output_type": "stream",
     "text": [
      "Progress: : 18it [06:08, 19.38s/it]"
     ]
    },
    {
     "name": "stdout",
     "output_type": "stream",
     "text": [
      "A mechanic working on a bicycle.\n"
     ]
    },
    {
     "name": "stderr",
     "output_type": "stream",
     "text": [
      "Progress: : 19it [06:27, 19.33s/it]"
     ]
    },
    {
     "name": "stdout",
     "output_type": "stream",
     "text": [
      "A black soldier with a gun sliding down a rope.\n"
     ]
    },
    {
     "name": "stderr",
     "output_type": "stream",
     "text": [
      "Progress: : 20it [06:39, 17.16s/it]"
     ]
    },
    {
     "name": "stdout",
     "output_type": "stream",
     "text": [
      "Three women in lab coats standing on a lawn being zoomed in on.\n"
     ]
    },
    {
     "name": "stderr",
     "output_type": "stream",
     "text": [
      "Progress: : 21it [06:53, 16.07s/it]"
     ]
    },
    {
     "name": "stdout",
     "output_type": "stream",
     "text": [
      "A kitesurfer surfing.\n"
     ]
    },
    {
     "name": "stderr",
     "output_type": "stream",
     "text": [
      "Progress: : 22it [07:07, 15.40s/it]"
     ]
    },
    {
     "name": "stdout",
     "output_type": "stream",
     "text": [
      "A boy on a mountain bike driving down a path.\n"
     ]
    },
    {
     "name": "stderr",
     "output_type": "stream",
     "text": [
      "Progress: : 23it [07:29, 17.31s/it]"
     ]
    },
    {
     "name": "stdout",
     "output_type": "stream",
     "text": [
      "A women dancing and being watched by a crowd.\n"
     ]
    },
    {
     "name": "stderr",
     "output_type": "stream",
     "text": [
      "Progress: : 24it [07:52, 19.10s/it]"
     ]
    },
    {
     "name": "stdout",
     "output_type": "stream",
     "text": [
      "A silver car driving accross and intersection.\n"
     ]
    },
    {
     "name": "stderr",
     "output_type": "stream",
     "text": [
      "Progress: : 25it [08:05, 17.31s/it]"
     ]
    },
    {
     "name": "stdout",
     "output_type": "stream",
     "text": [
      "A young dog walking behind a fence in the garden.\n"
     ]
    },
    {
     "name": "stderr",
     "output_type": "stream",
     "text": [
      "Progress: : 26it [08:19, 16.31s/it]"
     ]
    },
    {
     "name": "stdout",
     "output_type": "stream",
     "text": [
      "A man driving on a motorcycle in the city.\n"
     ]
    },
    {
     "name": "stderr",
     "output_type": "stream",
     "text": [
      "Progress: : 27it [08:32, 15.19s/it]"
     ]
    },
    {
     "name": "stdout",
     "output_type": "stream",
     "text": [
      "A man drifting on a motorcycle.\n"
     ]
    },
    {
     "name": "stderr",
     "output_type": "stream",
     "text": [
      "Progress: : 28it [08:52, 16.86s/it]"
     ]
    },
    {
     "name": "stdout",
     "output_type": "stream",
     "text": [
      "A man buying a television in the electronics store.\n"
     ]
    },
    {
     "name": "stderr",
     "output_type": "stream",
     "text": [
      "Progress: : 29it [09:07, 16.19s/it]"
     ]
    },
    {
     "name": "stdout",
     "output_type": "stream",
     "text": [
      "A woman on a horse jumps over an obstacle.\n"
     ]
    },
    {
     "name": "stderr",
     "output_type": "stream",
     "text": [
      "Progress: : 30it [09:21, 18.71s/it]\n"
     ]
    }
   ],
   "source": [
    "from algorithms.feature_extraction_loading import extract_diffusion_features\n",
    "\n",
    "extract_diffusion_features({\"davis\": \"tapvid_davis/tapvid_davis.pkl\"}, enable_vae_slicing=False)"
   ]
  },
  {
   "cell_type": "code",
   "execution_count": 2,
   "metadata": {},
   "outputs": [
    {
     "ename": "FileNotFoundError",
     "evalue": "[Errno 2] No such file or directory: 'ADL4CV'",
     "output_type": "error",
     "traceback": [
      "\u001b[0;31m---------------------------------------------------------------------------\u001b[0m",
      "\u001b[0;31mFileNotFoundError\u001b[0m                         Traceback (most recent call last)",
      "Cell \u001b[0;32mIn[2], line 2\u001b[0m\n\u001b[1;32m      1\u001b[0m \u001b[38;5;28;01mimport\u001b[39;00m \u001b[38;5;21;01mos\u001b[39;00m\n\u001b[0;32m----> 2\u001b[0m \u001b[43mos\u001b[49m\u001b[38;5;241;43m.\u001b[39;49m\u001b[43mchdir\u001b[49m\u001b[43m(\u001b[49m\u001b[38;5;124;43m\"\u001b[39;49m\u001b[38;5;124;43mADL4CV\u001b[39;49m\u001b[38;5;124;43m\"\u001b[39;49m\u001b[43m)\u001b[49m\n",
      "\u001b[0;31mFileNotFoundError\u001b[0m: [Errno 2] No such file or directory: 'ADL4CV'"
     ]
    }
   ],
   "source": [
    "import os\n",
    "os.chdir(\"ADL4CV\")"
   ]
  },
  {
   "cell_type": "code",
   "execution_count": 3,
   "metadata": {},
   "outputs": [
    {
     "name": "stdout",
     "output_type": "stream",
     "text": [
      "encoder_block\n",
      "torch.Size([90, 128, 128, 128])\n",
      "torch.Size([90, 256, 64, 64])\n",
      "torch.Size([90, 512, 32, 32])\n",
      "torch.Size([90, 512, 32, 32])\n",
      "up_block\n",
      "torch.Size([90, 1280, 8, 8])\n",
      "torch.Size([90, 1280, 16, 16])\n",
      "torch.Size([90, 640, 32, 32])\n",
      "torch.Size([90, 320, 32, 32])\n",
      "down_block\n",
      "torch.Size([90, 320, 16, 16])\n",
      "torch.Size([90, 640, 8, 8])\n",
      "torch.Size([90, 1280, 4, 4])\n",
      "torch.Size([90, 1280, 4, 4])\n",
      "mid_block\n",
      "torch.Size([90, 1280, 4, 4])\n",
      "decoder_block\n",
      "torch.Size([90, 512, 64, 64])\n",
      "torch.Size([90, 512, 128, 128])\n",
      "torch.Size([90, 256, 256, 256])\n",
      "torch.Size([90, 128, 256, 256])\n"
     ]
    }
   ],
   "source": [
    "import pickle\n",
    "import torch\n",
    "\n",
    "# Replace 'your_file.pkl' with the path to your .pkl file\n",
    "with open('output/features/davis/video_0.pkl', 'rb') as file:\n",
    "    data = pickle.load(file)\n",
    "\n",
    "feature_dict = data[\"features\"]\n",
    "\n",
    "for block_name, blocklist in feature_dict.items():\n",
    "    print(block_name)\n",
    "    for t in blocklist:\n",
    "        print(t.shape)"
   ]
  },
  {
   "cell_type": "code",
   "execution_count": 4,
   "metadata": {},
   "outputs": [],
   "source": [
    "# Create feature tensor for swan\n",
    "import torch\n",
    "import torch.nn.functional as func\n",
    "\n",
    "f = feature_dict\n",
    "\n",
    "feature = f[\"mid_block\"][0].float() + f[\"down_block\"][2].float() + f[\"down_block\"][3].float() #1280x4x4\n",
    "\n",
    "feature = func.interpolate(feature, scale_factor=2) +  f[\"up_block\"][0].float() #1280x8x8\n",
    "\n",
    "feature = func.interpolate(feature, scale_factor=2) +  f[\"up_block\"][1].float() #1280x16x16\n",
    "\n",
    "\n",
    "F,C,H,W = feature.shape\n",
    "feature = feature.permute((0, 2, 3, 1)).contiguous().view(F*H,W,C)\n",
    "feature = func.interpolate(feature, size=640)\n",
    "feature = feature.view(F,H,W,-1).permute(0,3,1,2) #640x16x16\n",
    "\n",
    "feature = feature +  func.interpolate(f[\"down_block\"][1].float(), scale_factor=2) #640x16x16\n",
    "\n",
    "F,C,H,W = feature.shape\n",
    "feature = feature.permute((0, 2, 3, 1)).contiguous().view(F*H,W,C)\n",
    "feature = func.interpolate(feature, size=320)\n",
    "feature = feature.view(F,H,W,320).permute(0,3,1,2) #320x16x16\n",
    "\n",
    "feature = feature + f[\"down_block\"][0].float()\n",
    "\n",
    "a1 = f[\"encoder_block\"][2].float() + f[\"encoder_block\"][3].float()\n",
    "F,C,H,W = a1.shape\n",
    "a1 = a1.permute((0, 2, 3, 1)).contiguous().view(F*H,W,C)\n",
    "a1 = func.interpolate(a1, size=320)\n",
    "a1 = a1.view(F,H,W,320).permute(0,3,1,2) #320x32x32\n",
    "\n",
    "a2 = f[\"up_block\"][2].float()\n",
    "F,C,H,W = a2.shape\n",
    "a2 = a2.permute((0, 2, 3, 1)).contiguous().view(F*H,W,C)\n",
    "a2 = func.interpolate(a2, size=320)\n",
    "a2 = a2.view(F,H,W,320).permute(0,3,1,2) #320x32x32\n",
    "\n",
    "feature = func.interpolate(feature, scale_factor=2) + a1 + a2 #320x32x32\n",
    "\n",
    "F,C,H,W = feature.shape\n",
    "feature = feature.permute((0, 2, 3, 1)).contiguous().view(F*H,W,C)\n",
    "feature = func.interpolate(feature, size=256)\n",
    "feature = feature.view(F,H,W,256).permute(0,3,1,2) #256x32x32\n",
    "\n",
    "a1 = f[\"decoder_block\"][0].float()\n",
    "F,C,H,W = a1.shape\n",
    "a1 = a1.permute((0, 2, 3, 1)).contiguous().view(F*H,W,C)\n",
    "a1 = func.interpolate(a1, size=256)\n",
    "a1 = a1.view(F,H,W,256).permute(0,3,1,2) #256x64x64\n",
    "\n",
    "feature = func.interpolate(feature, scale_factor=2) + a1 + f[\"encoder_block\"][1].float() #256x64x64\n",
    "\n",
    "F,C,H,W = feature.shape\n",
    "feature = feature.permute((0, 2, 3, 1)).contiguous().view(F*H,W,C)\n",
    "feature = func.interpolate(feature, size=128)\n",
    "feature = feature.view(F,H,W,128).permute(0,3,1,2) #128x64x64\n",
    "\n",
    "a1 = f[\"decoder_block\"][1].float()\n",
    "F,C,H,W = a1.shape\n",
    "a1 = a1.permute((0, 2, 3, 1)).contiguous().view(F*H,W,C)\n",
    "a1 = func.interpolate(a1, size=128)\n",
    "a1 = a1.view(F,H,W,128).permute(0,3,1,2) #128x128x128\n",
    "\n",
    "feature = func.interpolate(feature, scale_factor=2) + a1 + f[\"encoder_block\"][0].float() #128x128x128\n",
    "\n",
    "a1 = f[\"decoder_block\"][2].float()\n",
    "F,C,H,W = a1.shape\n",
    "a1 = a1.permute((0, 2, 3, 1)).contiguous().view(F*H,W,C)\n",
    "a1 = func.interpolate(a1, size=128)\n",
    "a1 = a1.view(F,H,W,128).permute(0,3,1,2) #128x128x128\n",
    "\n",
    "feature = func.interpolate(feature, scale_factor=2) + a1 + f[\"decoder_block\"][3].float() #128x256x256"
   ]
  },
  {
   "cell_type": "code",
   "execution_count": 5,
   "metadata": {},
   "outputs": [],
   "source": [
    "torch.save(feature, \"goat_feature_tensor.pt\")"
   ]
  }
 ],
 "metadata": {
  "kernelspec": {
   "display_name": "adl4cv",
   "language": "python",
   "name": "python3"
  },
  "language_info": {
   "codemirror_mode": {
    "name": "ipython",
    "version": 3
   },
   "file_extension": ".py",
   "mimetype": "text/x-python",
   "name": "python",
   "nbconvert_exporter": "python",
   "pygments_lexer": "ipython3",
   "version": "3.10.14"
  }
 },
 "nbformat": 4,
 "nbformat_minor": 2
}

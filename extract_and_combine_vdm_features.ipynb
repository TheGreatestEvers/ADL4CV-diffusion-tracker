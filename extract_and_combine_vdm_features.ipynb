{
 "cells": [
  {
   "cell_type": "code",
   "execution_count": 1,
   "metadata": {},
   "outputs": [
    {
     "name": "stderr",
     "output_type": "stream",
     "text": [
      "2024-07-15 20:23:40.351509: E external/local_xla/xla/stream_executor/cuda/cuda_fft.cc:479] Unable to register cuFFT factory: Attempting to register factory for plugin cuFFT when one has already been registered\n",
      "2024-07-15 20:23:40.460014: E external/local_xla/xla/stream_executor/cuda/cuda_dnn.cc:10575] Unable to register cuDNN factory: Attempting to register factory for plugin cuDNN when one has already been registered\n",
      "2024-07-15 20:23:40.460371: E external/local_xla/xla/stream_executor/cuda/cuda_blas.cc:1442] Unable to register cuBLAS factory: Attempting to register factory for plugin cuBLAS when one has already been registered\n",
      "2024-07-15 20:23:40.613619: I tensorflow/core/platform/cpu_feature_guard.cc:210] This TensorFlow binary is optimized to use available CPU instructions in performance-critical operations.\n",
      "To enable the following instructions: AVX2 FMA, in other operations, rebuild TensorFlow with the appropriate compiler flags.\n",
      "2024-07-15 20:23:42.259014: W tensorflow/compiler/tf2tensorrt/utils/py_utils.cc:38] TF-TRT Warning: Could not find TensorRT\n"
     ]
    },
    {
     "data": {
      "application/vnd.jupyter.widget-view+json": {
       "model_id": "4364707328ea45a5affe3a0b5e0d97f6",
       "version_major": 2,
       "version_minor": 0
      },
      "text/plain": [
       "Loading pipeline components...:   0%|          | 0/5 [00:00<?, ?it/s]"
      ]
     },
     "metadata": {},
     "output_type": "display_data"
    },
    {
     "name": "stdout",
     "output_type": "stream",
     "text": [
      "Dataset: davis\n"
     ]
    },
    {
     "name": "stderr",
     "output_type": "stream",
     "text": [
      "Progress: : 0it [00:00, ?it/s]"
     ]
    },
    {
     "name": "stdout",
     "output_type": "stream",
     "text": [
      "A goat climbs a rocky mountain ridge.\n"
     ]
    },
    {
     "name": "stderr",
     "output_type": "stream",
     "text": [
      "Progress: : 1it [00:55, 55.18s/it]"
     ]
    },
    {
     "name": "stdout",
     "output_type": "stream",
     "text": [
      "A car driving in a roundabout in the city.\n"
     ]
    },
    {
     "name": "stderr",
     "output_type": "stream",
     "text": [
      "Progress: : 2it [01:18, 36.68s/it]"
     ]
    },
    {
     "name": "stdout",
     "output_type": "stream",
     "text": [
      "A dirtbike rider jumps over a ramp.\n"
     ]
    },
    {
     "name": "stderr",
     "output_type": "stream",
     "text": [
      "Progress: : 3it [01:36, 28.01s/it]"
     ]
    },
    {
     "name": "stdout",
     "output_type": "stream",
     "text": [
      "A breakdancer being watched by a crowd.\n"
     ]
    },
    {
     "name": "stderr",
     "output_type": "stream",
     "text": [
      "Progress: : 4it [02:02, 27.05s/it]"
     ]
    },
    {
     "name": "stdout",
     "output_type": "stream",
     "text": [
      "A race driver drifts around a curve.\n"
     ]
    },
    {
     "name": "stderr",
     "output_type": "stream",
     "text": [
      "Progress: : 5it [02:23, 24.82s/it]"
     ]
    },
    {
     "name": "stdout",
     "output_type": "stream",
     "text": [
      "A race driver drifting on a dirty street.\n"
     ]
    },
    {
     "name": "stderr",
     "output_type": "stream",
     "text": [
      "Progress: : 6it [02:38, 21.74s/it]"
     ]
    },
    {
     "name": "stdout",
     "output_type": "stream",
     "text": [
      "Two judo fighters are watched by others during a fight.\n"
     ]
    },
    {
     "name": "stderr",
     "output_type": "stream",
     "text": [
      "Progress: : 7it [02:50, 18.33s/it]"
     ]
    },
    {
     "name": "stdout",
     "output_type": "stream",
     "text": [
      "Two people in a gravity racer driver over a ramp.\n"
     ]
    },
    {
     "name": "stderr",
     "output_type": "stream",
     "text": [
      "Progress: : 8it [03:19, 21.75s/it]"
     ]
    },
    {
     "name": "stdout",
     "output_type": "stream",
     "text": [
      "A woman on a field giving treats to two border collies.\n"
     ]
    },
    {
     "name": "stderr",
     "output_type": "stream",
     "text": [
      "Progress: : 9it [03:43, 22.57s/it]"
     ]
    },
    {
     "name": "stdout",
     "output_type": "stream",
     "text": [
      "A man wearing an orange T-Shirt doing parkour in the city.\n"
     ]
    },
    {
     "name": "stderr",
     "output_type": "stream",
     "text": [
      "Progress: : 10it [04:10, 23.82s/it]"
     ]
    },
    {
     "name": "stdout",
     "output_type": "stream",
     "text": [
      "Indian people on a busy street.\n"
     ]
    },
    {
     "name": "stderr",
     "output_type": "stream",
     "text": [
      "Progress: : 11it [04:38, 25.24s/it]"
     ]
    },
    {
     "name": "stdout",
     "output_type": "stream",
     "text": [
      "Two baby pigs with their mother trying to drink.\n"
     ]
    },
    {
     "name": "stderr",
     "output_type": "stream",
     "text": [
      "Progress: : 12it [05:03, 25.17s/it]"
     ]
    },
    {
     "name": "stdout",
     "output_type": "stream",
     "text": [
      "A cow walking behind a fence.\n"
     ]
    },
    {
     "name": "stderr",
     "output_type": "stream",
     "text": [
      "Progress: : 13it [05:38, 28.22s/it]"
     ]
    },
    {
     "name": "stdout",
     "output_type": "stream",
     "text": [
      "A few blue fish swimming in an aquarium.\n"
     ]
    },
    {
     "name": "stderr",
     "output_type": "stream",
     "text": [
      "Progress: : 14it [06:02, 26.68s/it]"
     ]
    },
    {
     "name": "stdout",
     "output_type": "stream",
     "text": [
      "A paraglider starting off a mountain.\n"
     ]
    },
    {
     "name": "stderr",
     "output_type": "stream",
     "text": [
      "Progress: : 15it [06:26, 26.04s/it]"
     ]
    },
    {
     "name": "stdout",
     "output_type": "stream",
     "text": [
      "A camel walking in its enclosure.\n"
     ]
    },
    {
     "name": "stderr",
     "output_type": "stream",
     "text": [
      "Progress: : 16it [06:52, 26.04s/it]"
     ]
    },
    {
     "name": "stdout",
     "output_type": "stream",
     "text": [
      "A black swan swimming down a river.\n"
     ]
    },
    {
     "name": "stderr",
     "output_type": "stream",
     "text": [
      "Progress: : 17it [07:14, 24.69s/it]"
     ]
    },
    {
     "name": "stdout",
     "output_type": "stream",
     "text": [
      "A golden retriever walking in a garden.\n"
     ]
    },
    {
     "name": "stderr",
     "output_type": "stream",
     "text": [
      "Progress: : 18it [07:30, 22.22s/it]"
     ]
    },
    {
     "name": "stdout",
     "output_type": "stream",
     "text": [
      "A mechanic working on a bicycle.\n"
     ]
    },
    {
     "name": "stderr",
     "output_type": "stream",
     "text": [
      "Progress: : 19it [07:52, 22.11s/it]"
     ]
    },
    {
     "name": "stdout",
     "output_type": "stream",
     "text": [
      "A black soldier with a gun sliding down a rope.\n"
     ]
    },
    {
     "name": "stderr",
     "output_type": "stream",
     "text": [
      "Progress: : 20it [08:07, 20.06s/it]"
     ]
    },
    {
     "name": "stdout",
     "output_type": "stream",
     "text": [
      "Three women in lab coats standing on a lawn being zoomed in on.\n"
     ]
    },
    {
     "name": "stderr",
     "output_type": "stream",
     "text": [
      "Progress: : 21it [08:22, 18.39s/it]"
     ]
    },
    {
     "name": "stdout",
     "output_type": "stream",
     "text": [
      "A kitesurfer surfing.\n"
     ]
    },
    {
     "name": "stderr",
     "output_type": "stream",
     "text": [
      "Progress: : 22it [08:39, 18.01s/it]"
     ]
    },
    {
     "name": "stdout",
     "output_type": "stream",
     "text": [
      "A boy on a mountain bike driving down a path.\n"
     ]
    },
    {
     "name": "stderr",
     "output_type": "stream",
     "text": [
      "Progress: : 23it [09:04, 20.07s/it]"
     ]
    },
    {
     "name": "stdout",
     "output_type": "stream",
     "text": [
      "A women dancing and being watched by a crowd.\n"
     ]
    },
    {
     "name": "stderr",
     "output_type": "stream",
     "text": [
      "Progress: : 24it [09:30, 21.94s/it]"
     ]
    },
    {
     "name": "stdout",
     "output_type": "stream",
     "text": [
      "A silver car driving accross and intersection.\n"
     ]
    },
    {
     "name": "stderr",
     "output_type": "stream",
     "text": [
      "Progress: : 25it [09:45, 19.72s/it]"
     ]
    },
    {
     "name": "stdout",
     "output_type": "stream",
     "text": [
      "A young dog walking behind a fence in the garden.\n"
     ]
    },
    {
     "name": "stderr",
     "output_type": "stream",
     "text": [
      "Progress: : 26it [10:04, 19.66s/it]"
     ]
    },
    {
     "name": "stdout",
     "output_type": "stream",
     "text": [
      "A man driving on a motorcycle in the city.\n"
     ]
    },
    {
     "name": "stderr",
     "output_type": "stream",
     "text": [
      "Progress: : 27it [10:19, 18.11s/it]"
     ]
    },
    {
     "name": "stdout",
     "output_type": "stream",
     "text": [
      "A man drifting on a motorcycle.\n"
     ]
    },
    {
     "name": "stderr",
     "output_type": "stream",
     "text": [
      "Progress: : 28it [10:42, 19.74s/it]"
     ]
    },
    {
     "name": "stdout",
     "output_type": "stream",
     "text": [
      "A man buying a television in the electronics store.\n"
     ]
    },
    {
     "name": "stderr",
     "output_type": "stream",
     "text": [
      "Progress: : 29it [11:00, 19.16s/it]"
     ]
    },
    {
     "name": "stdout",
     "output_type": "stream",
     "text": [
      "A woman on a horse jumps over an obstacle.\n"
     ]
    },
    {
     "name": "stderr",
     "output_type": "stream",
     "text": [
      "Progress: : 30it [11:16, 22.55s/it]\n"
     ]
    }
   ],
   "source": [
    "from algorithms.feature_extraction_loading import extract_diffusion_features\n",
    "\n",
    "extract_diffusion_features({\"davis\": \"tapvid_davis/tapvid_davis.pkl\"}, enable_vae_slicing=False)"
   ]
  },
  {
   "cell_type": "code",
   "execution_count": 2,
   "metadata": {},
   "outputs": [],
   "source": [
    "import pickle\n",
    "from algorithms.utils import read_config_file, feature_collate_fn\n",
    "from algorithms.feature_extraction_loading import FeatureDataset\n",
    "from torch.utils.data import DataLoader\n",
    "\n",
    "config = read_config_file(\"configs/config.yaml\")\n",
    "\n",
    "dataset = FeatureDataset(feature_dataset_path=config['dataset_dir'])\n",
    "dataloader = DataLoader(dataset, collate_fn=feature_collate_fn)"
   ]
  },
  {
   "cell_type": "code",
   "execution_count": 3,
   "metadata": {},
   "outputs": [],
   "source": [
    "# Create feature tensor for swan\n",
    "import torch\n",
    "import torch.nn.functional as func\n",
    "\n",
    "\n",
    "def combine_features(feature_dict):\n",
    "    f = feature_dict\n",
    "\n",
    "    feature = f[\"mid_block\"][0].float() + f[\"down_block\"][2].float() + f[\"down_block\"][3].float() #1280x4x4\n",
    "\n",
    "    feature = func.interpolate(feature, scale_factor=2) +  f[\"up_block\"][0].float() #1280x8x8\n",
    "\n",
    "    feature = func.interpolate(feature, scale_factor=2) +  f[\"up_block\"][1].float() #1280x16x16\n",
    "\n",
    "\n",
    "    F,C,H,W = feature.shape\n",
    "    feature = feature.permute((0, 2, 3, 1)).contiguous().view(F*H,W,C)\n",
    "    feature = func.interpolate(feature, size=640)\n",
    "    feature = feature.view(F,H,W,-1).permute(0,3,1,2) #640x16x16\n",
    "\n",
    "    feature = feature +  func.interpolate(f[\"down_block\"][1].float(), scale_factor=2) #640x16x16\n",
    "\n",
    "    F,C,H,W = feature.shape\n",
    "    feature = feature.permute((0, 2, 3, 1)).contiguous().view(F*H,W,C)\n",
    "    feature = func.interpolate(feature, size=320)\n",
    "    feature = feature.view(F,H,W,320).permute(0,3,1,2) #320x16x16\n",
    "\n",
    "    feature = feature + f[\"down_block\"][0].float()\n",
    "\n",
    "    a1 = f[\"encoder_block\"][2].float() + f[\"encoder_block\"][3].float()\n",
    "    F,C,H,W = a1.shape\n",
    "    a1 = a1.permute((0, 2, 3, 1)).contiguous().view(F*H,W,C)\n",
    "    a1 = func.interpolate(a1, size=320)\n",
    "    a1 = a1.view(F,H,W,320).permute(0,3,1,2) #320x32x32\n",
    "\n",
    "    a2 = f[\"up_block\"][2].float()\n",
    "    F,C,H,W = a2.shape\n",
    "    a2 = a2.permute((0, 2, 3, 1)).contiguous().view(F*H,W,C)\n",
    "    a2 = func.interpolate(a2, size=320)\n",
    "    a2 = a2.view(F,H,W,320).permute(0,3,1,2) #320x32x32\n",
    "\n",
    "    feature = func.interpolate(feature, scale_factor=2) + a1 + a2 #320x32x32\n",
    "\n",
    "    F,C,H,W = feature.shape\n",
    "    feature = feature.permute((0, 2, 3, 1)).contiguous().view(F*H,W,C)\n",
    "    feature = func.interpolate(feature, size=256)\n",
    "    feature = feature.view(F,H,W,256).permute(0,3,1,2) #256x32x32\n",
    "\n",
    "    a1 = f[\"decoder_block\"][0].float()\n",
    "    F,C,H,W = a1.shape\n",
    "    a1 = a1.permute((0, 2, 3, 1)).contiguous().view(F*H,W,C)\n",
    "    a1 = func.interpolate(a1, size=256)\n",
    "    a1 = a1.view(F,H,W,256).permute(0,3,1,2) #256x64x64\n",
    "\n",
    "    feature = func.interpolate(feature, scale_factor=2) + a1 + f[\"encoder_block\"][1].float() #256x64x64\n",
    "\n",
    "    F,C,H,W = feature.shape\n",
    "    feature = feature.permute((0, 2, 3, 1)).contiguous().view(F*H,W,C)\n",
    "    feature = func.interpolate(feature, size=128)\n",
    "    feature = feature.view(F,H,W,128).permute(0,3,1,2) #128x64x64\n",
    "\n",
    "    a1 = f[\"decoder_block\"][1].float()\n",
    "    F,C,H,W = a1.shape\n",
    "    a1 = a1.permute((0, 2, 3, 1)).contiguous().view(F*H,W,C)\n",
    "    a1 = func.interpolate(a1, size=128)\n",
    "    a1 = a1.view(F,H,W,128).permute(0,3,1,2) #128x128x128\n",
    "\n",
    "    feature = func.interpolate(feature, scale_factor=2) + a1 + f[\"encoder_block\"][0].float() #128x128x128\n",
    "\n",
    "    a1 = f[\"decoder_block\"][2].float()\n",
    "    F,C,H,W = a1.shape\n",
    "    a1 = a1.permute((0, 2, 3, 1)).contiguous().view(F*H,W,C)\n",
    "    a1 = func.interpolate(a1, size=128)\n",
    "    a1 = a1.view(F,H,W,128).permute(0,3,1,2) #128x128x128\n",
    "\n",
    "    feature = func.interpolate(feature, scale_factor=2) + a1 + f[\"decoder_block\"][3].float() #128x256x256\n",
    "\n",
    "    F,C,H,W = feature.shape\n",
    "    feature = feature.permute((0, 2, 3, 1)).contiguous().view(F*H,W,C)\n",
    "    feature = func.interpolate(feature, size=64)\n",
    "    feature = feature.view(F,H,W,64).permute(0,3,1,2) #64x256x256\n",
    "\n",
    "    return feature"
   ]
  },
  {
   "cell_type": "code",
   "execution_count": 4,
   "metadata": {},
   "outputs": [
    {
     "name": "stdout",
     "output_type": "stream",
     "text": [
      "0\n",
      "1\n",
      "2\n",
      "3\n",
      "4\n",
      "5\n",
      "6\n",
      "7\n",
      "8\n",
      "9\n",
      "10\n",
      "11\n",
      "12\n",
      "13\n",
      "14\n",
      "15\n",
      "16\n",
      "17\n",
      "18\n",
      "19\n",
      "20\n",
      "21\n",
      "22\n",
      "23\n",
      "24\n",
      "25\n",
      "26\n",
      "27\n",
      "28\n",
      "29\n"
     ]
    }
   ],
   "source": [
    "import os\n",
    "\n",
    "for i, data in enumerate(dataloader):\n",
    "    print(i)\n",
    "\n",
    "    data = data[0]\n",
    "    better_feature = combine_features(data[\"features\"])\n",
    "\n",
    "    data['better_feature'] = better_feature.cpu()\n",
    "    feature_path = os.path.join(config['dataset_dir'], 'video_' + str(i) + '.pkl')\n",
    "\n",
    "    with open(feature_path, 'wb') as better_feature_file:\n",
    "        pickle.dump(data, better_feature_file)\n",
    "    "
   ]
  }
 ],
 "metadata": {
  "kernelspec": {
   "display_name": "adl4cv",
   "language": "python",
   "name": "python3"
  },
  "language_info": {
   "codemirror_mode": {
    "name": "ipython",
    "version": 3
   },
   "file_extension": ".py",
   "mimetype": "text/x-python",
   "name": "python",
   "nbconvert_exporter": "python",
   "pygments_lexer": "ipython3",
   "version": "3.11.9"
  }
 },
 "nbformat": 4,
 "nbformat_minor": 2
}

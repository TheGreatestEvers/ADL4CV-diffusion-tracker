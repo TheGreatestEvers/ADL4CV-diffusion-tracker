{
 "cells": [
  {
   "cell_type": "code",
   "execution_count": null,
   "metadata": {},
   "outputs": [],
   "source": [
    "import torch\n",
    "import numpy as np\n",
    "from torch.utils.data import DataLoader\n",
    "import random\n",
    "\n",
    "from algorithms.feature_extraction_loading import FeatureDataset, extract_diffusion_features, feature_collate_fn, concatenate_video_features\n",
    "\n",
    "from algorithms.heatmap_generator import HeatmapGenerator\n",
    "from algorithms.zero_shot_tracker import ZeroShotTracker\n",
    "\n",
    "heatmap_generator = HeatmapGenerator()\n",
    "zero_shot_tracker = ZeroShotTracker()"
   ]
  },
  {
   "cell_type": "code",
   "execution_count": null,
   "metadata": {},
   "outputs": [],
   "source": [
    "#extract_diffusion_features(input_dataset_paths={'davis': '../tapvid_davis/tapvid_davis.pkl'}, diffusion_model_path='../text-to-video-ms-1.7b/')"
   ]
  },
  {
   "cell_type": "code",
   "execution_count": null,
   "metadata": {},
   "outputs": [],
   "source": [
    "feature_dataset = FeatureDataset()\n",
    "feature_loader = DataLoader(feature_dataset, batch_size=1, shuffle=True, collate_fn=feature_collate_fn)\n",
    "\n",
    "for batch in feature_loader:\n",
    "    for sample in batch:\n",
    "        video_features = concatenate_video_features({'up_block': sample['features']['up_block'][0:3]})\n",
    "\n",
    "        idx = random.randint(0, len(sample['query_points'][0]))\n",
    "        query_point = sample['query_points'][0][idx]\n",
    "\n",
    "        print(query_point)\n",
    "\n",
    "        video_features = video_features.permute(0, 2, 3, 1).float()\n",
    "        heatmaps = heatmap_generator.generate(video_features, (query_point[1], query_point[2], int(query_point[0])))\n",
    "        tracks = zero_shot_tracker.track(heatmaps)\n",
    "\n",
    "        zero_shot_tracker.place_marker_in_frames(sample['video'].squeeze(), tracks)\n",
    "        heatmap_generator.safe_heatmap_as_gif(heatmaps)\n",
    "\n",
    "        input(\"Press Enter to continue...\")"
   ]
  }
 ],
 "metadata": {
  "kernelspec": {
   "display_name": "diffusers",
   "language": "python",
   "name": "python3"
  },
  "language_info": {
   "codemirror_mode": {
    "name": "ipython",
    "version": 3
   },
   "file_extension": ".py",
   "mimetype": "text/x-python",
   "name": "python",
   "nbconvert_exporter": "python",
   "pygments_lexer": "ipython3",
   "version": "3.11.9"
  }
 },
 "nbformat": 4,
 "nbformat_minor": 2
}

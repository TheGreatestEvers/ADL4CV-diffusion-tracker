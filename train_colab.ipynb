{
 "cells": [
  {
   "cell_type": "code",
   "execution_count": null,
   "metadata": {},
   "outputs": [],
   "source": [
    "#@title Clone Private GitHub Repository\n",
    "import os\n",
    "from getpass import getpass\n",
    "\n",
    "# Replace with the repository URL\n",
    "repo_url = \"https://github.com/TheGreatestEvers/ADL4CV.git\"\n",
    "\n",
    "# Enter your GitHub username\n",
    "username = \"TheGreatestEvers\"\n",
    "\n",
    "# Enter your personal access token\n",
    "token = getpass('Enter your GitHub personal access token: ')\n",
    "\n",
    "# Construct the full repository URL with the token\n",
    "repo_url_with_token = repo_url.replace(\"https://\", f\"https://{username}:{token}@\")\n",
    "\n",
    "# Clone the repository\n",
    "!git clone -b dev_heatmap_processor {repo_url_with_token}"
   ]
  },
  {
   "cell_type": "code",
   "execution_count": null,
   "metadata": {},
   "outputs": [],
   "source": [
    "%cd ADL4CV\n",
    "!pip install -r requirements.txt"
   ]
  },
  {
   "cell_type": "code",
   "execution_count": null,
   "metadata": {},
   "outputs": [],
   "source": [
    "from algorithms.feature_extraction_loading import extract_diffusion_features\n",
    "\n",
    "extract_diffusion_features({\"davis\": \"slim_davis.pkl\"})"
   ]
  },
  {
   "cell_type": "code",
   "execution_count": null,
   "metadata": {},
   "outputs": [],
   "source": [
    "from zevipo_tracker import ZeViPo\n",
    "import torch\n",
    "\n",
    "z = ZeViPo(\"configs/config.yml\")\n",
    "\n",
    "z.train()\n",
    "\n",
    "torch.save(z.model.state_dict(), 'trained_model_4vids.pth')"
   ]
  }
 ],
 "metadata": {
  "kernelspec": {
   "display_name": "adl4cv",
   "language": "python",
   "name": "python3"
  },
  "language_info": {
   "codemirror_mode": {
    "name": "ipython",
    "version": 3
   },
   "file_extension": ".py",
   "mimetype": "text/x-python",
   "name": "python",
   "nbconvert_exporter": "python",
   "pygments_lexer": "ipython3",
   "version": "3.10.13"
  }
 },
 "nbformat": 4,
 "nbformat_minor": 2
}

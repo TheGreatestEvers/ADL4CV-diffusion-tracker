{
 "cells": [
  {
   "cell_type": "code",
   "execution_count": 1,
   "metadata": {},
   "outputs": [
    {
     "name": "stderr",
     "output_type": "stream",
     "text": [
      "/home/max/miniconda3/envs/diffusers/lib/python3.11/site-packages/tqdm/auto.py:21: TqdmWarning: IProgress not found. Please update jupyter and ipywidgets. See https://ipywidgets.readthedocs.io/en/stable/user_install.html\n",
      "  from .autonotebook import tqdm as notebook_tqdm\n",
      "Loading pipeline components...: 100%|██████████| 5/5 [00:00<00:00,  8.84it/s]\n",
      "/home/max/miniconda3/envs/diffusers/lib/python3.11/site-packages/torch/nn/modules/conv.py:456: UserWarning: Plan failed with a cudnnException: CUDNN_BACKEND_EXECUTION_PLAN_DESCRIPTOR: cudnnFinalize Descriptor Failed cudnn_status: CUDNN_STATUS_NOT_SUPPORTED (Triggered internally at ../aten/src/ATen/native/cudnn/Conv_v8.cpp:919.)\n",
      "  return F.conv2d(input, weight, bias, self.stride,\n",
      "/home/max/miniconda3/envs/diffusers/lib/python3.11/site-packages/torch/nn/modules/conv.py:605: UserWarning: Plan failed with a cudnnException: CUDNN_BACKEND_EXECUTION_PLAN_DESCRIPTOR: cudnnFinalize Descriptor Failed cudnn_status: CUDNN_STATUS_NOT_SUPPORTED (Triggered internally at ../aten/src/ATen/native/cudnn/Conv_v8.cpp:919.)\n",
      "  return F.conv3d(\n"
     ]
    },
    {
     "name": "stdout",
     "output_type": "stream",
     "text": [
      "torch.Size([25, 3520, 32, 32])\n"
     ]
    }
   ],
   "source": [
    "import torch\n",
    "import numpy as np\n",
    "from PIL import Image, ImageSequence\n",
    "\n",
    "from diffusion_wrapper import DiffusionWrapper\n",
    "from heatmap_generator import HeatmapGenerator\n",
    "from zero_shot_tracker import ZeroShotTracker\n",
    "\n",
    "\n",
    "diffusion_wrapper = DiffusionWrapper('../text-to-video-ms-1.7b')\n",
    "heatmap_generator = HeatmapGenerator()\n",
    "zero_shot_tracker = ZeroShotTracker()\n",
    "\n",
    "video_features = diffusion_wrapper.extract_video_features('../rocket256.gif', \"A rocket starting on Mars.\")"
   ]
  },
  {
   "cell_type": "code",
   "execution_count": null,
   "metadata": {},
   "outputs": [],
   "source": [
    "from diffusers import AutoencoderKL\n",
    "\n",
    "# Transform feature maps with decoder\n",
    "vae = AutoencoderKL.from_pretrained(\"ali-vilab/text-to-video-ms-1.7b\", subfolder=\"vae\", use_safetensor=True).to(\"cuda\")\n",
    "F, C, H, W = video_features.shape\n",
    "feature_maps_channel_batches = video_features.view(F, C // 4, 4, H, W)\n",
    "feature_maps_channel_batches_decoded = torch.zeros_like(feature_maps_channel_batches)\n",
    "for c in range(C // 4):\n",
    "    feat = feature_maps_channel_batches[:, c, :, :, :].float()\n",
    "    f_decoded = vae.decode(feat)\n",
    "    feature_maps_channel_batches_decoded[:, c, :, :, :] = f_decoded\n",
    "feature_maps_decoded = feature_maps_channel_batches_decoded.view(F, C, H, W)"
   ]
  },
  {
   "cell_type": "code",
   "execution_count": 2,
   "metadata": {},
   "outputs": [
    {
     "name": "stdout",
     "output_type": "stream",
     "text": [
      "projected point: \n",
      "(11.625, 17.125, 0)\n",
      "sample feat vec\n",
      "tensor([[[[-0.3051]],\n",
      "\n",
      "         [[-3.4736]],\n",
      "\n",
      "         [[-0.8722]],\n",
      "\n",
      "         ...,\n",
      "\n",
      "         [[ 2.2353]],\n",
      "\n",
      "         [[ 0.9984]],\n",
      "\n",
      "         [[-5.2600]]]])\n"
     ]
    }
   ],
   "source": [
    "video_features = video_features.permute(0, 2, 3, 1).float().cpu()\n",
    "heatmaps = heatmap_generator.generate(video_features, (93, 137, 0))\n",
    "\n",
    "#heatmaps = torch.permute(heatmaps, (0, 3, 1, 2))\n",
    "#heatmaps = torch.nn.functional.interpolate(heatmaps, size=256, mode=\"bilinear\", align_corners=True) * 255\n",
    "#\n",
    "#heatmaps = heatmaps.squeeze().numpy()\n",
    "#frames_gif = [Image.fromarray(f) for f in heatmaps]\n",
    "#frames_gif[0].save(\"output/heatmaps.gif\", save_all=True, append_images=frames_gif[1:], duration=100, loop=0)\n",
    "\n",
    "tracks = zero_shot_tracker.track(heatmaps)\n",
    "\n",
    "def load_frames(image: Image, mode='RGB'):\n",
    "    return np.array([\n",
    "        np.array(frame.convert(mode))\n",
    "        for frame in ImageSequence.Iterator(image)\n",
    "    ])\n",
    "\n",
    "with Image.open('../rocket256.gif') as im:\n",
    "    frames = load_frames(im)\n",
    "\n",
    "zero_shot_tracker.place_marker_in_frames(frames, tracks)"
   ]
  }
 ],
 "metadata": {
  "kernelspec": {
   "display_name": "diffusers",
   "language": "python",
   "name": "python3"
  },
  "language_info": {
   "codemirror_mode": {
    "name": "ipython",
    "version": 3
   },
   "file_extension": ".py",
   "mimetype": "text/x-python",
   "name": "python",
   "nbconvert_exporter": "python",
   "pygments_lexer": "ipython3",
   "version": "3.10.13"
  }
 },
 "nbformat": 4,
 "nbformat_minor": 2
}
